{
 "cells": [
  {
   "cell_type": "markdown",
   "metadata": {},
   "source": [
    "## Identify Fraud From Enron Emails and Financial data\n",
    "### By Vivek Pandey"
   ]
  },
  {
   "cell_type": "markdown",
   "metadata": {},
   "source": [
    "### Enron Fraud detection Project Overview\n",
    "In 2000, Enron was one of the largest companies in the United States. By 2002, it had collapsed into bankruptcy due to widespread corporate fraud. In the resulting Federal investigation, a significant amount of typically confidential information entered into the public record, including tens of thousands of emails and detailed financial data for top executives.\n",
    "\n",
    "In this project,I will use Machine learning algoritham to identify Person of interests (POIs) which were involved in fraud activity happened in Enron company."
   ]
  },
  {
   "cell_type": "markdown",
   "metadata": {},
   "source": [
    "### INTRODUCTION:\n",
    "#### Background of Enron Dataset:\n",
    "This dataset contains Enron emails sent and received by Enron executives during 2000-2002 and this dataset has email metadata such as no of emails received and no of emails sent, moreover this dataset contains financial information such as Salary, Bonus and stock options.\n",
    "\n",
    "As Fortune named Enron \"America's Most Innovative Company\" for six consecutive years ,however after that Enron was declared bankrupt due to willful corporate fraud and corruption, which alarmed every company to take fraud very seriously and try to take some serious action to prevent such malicious activities within organization.\n",
    "\n",
    "So the goal of this project to build a predictive model to identify POIs with he help of Machine learning algorithms and using Enron dataset. \n",
    "Since this dataset also has actual POIs and using these actual values we will evaluate our predictive model.\n"
   ]
  },
  {
   "cell_type": "markdown",
   "metadata": {},
   "source": [
    "The features in the data fall into three major types, namely financial features, email features and POI labels.\n",
    "\n",
    "financial features: ['salary', 'deferral_payments', 'total_payments', 'loan_advances', 'bonus', 'restricted_stock_deferred', 'deferred_income', 'total_stock_value', 'expenses', 'exercised_stock_options', 'other', 'long_term_incentive', 'restricted_stock', 'director_fees'] (all units are in US dollars)\n",
    "\n",
    "email features: ['to_messages', 'email_address', 'from_poi_to_this_person', 'from_messages', 'from_this_person_to_poi', 'shared_receipt_with_poi'] (units are generally number of emails messages; notable exception is ‘email_address’, which is a text string)\n",
    "\n",
    "POI label: [‘poi’] (boolean, represented as integer)"
   ]
  },
  {
   "cell_type": "code",
   "execution_count": 6,
   "metadata": {
    "collapsed": false
   },
   "outputs": [],
   "source": [
    "\n",
    "import pandas as pd\n",
    "import numpy as np\n",
    "\n",
    "import sys\n",
    "import pickle\n",
    "sys.path.append(\"C:/Users/Vvek/ud120-projects-master/ud120-projects-master/tools/\")\n",
    "\n",
    "\n",
    "from feature_format import featureFormat, targetFeatureSplit\n",
    "##from tester_plus import dump_classifier_and_data\n",
    "\n",
    "from sklearn.feature_selection import SelectKBest, f_classif\n",
    "from sklearn.cross_validation import train_test_split\n",
    "from sklearn.grid_search import GridSearchCV\n",
    "from sklearn.cross_validation import StratifiedShuffleSplit\n",
    "\n",
    "Enron_dictionary = pickle.load( open(\"C:/Users/Vivek/ud120-projects-master/ud120-projects-master/final_project/final_project_dataset.pkl\", \"r\") )\n"
   ]
  },
  {
   "cell_type": "markdown",
   "metadata": {},
   "source": [
    "### Data exploration :"
   ]
  },
  {
   "cell_type": "code",
   "execution_count": 7,
   "metadata": {
    "collapsed": true
   },
   "outputs": [],
   "source": [
    "# Convert Data dictionary to pandas dataframe for easy data manipulation\n",
    "enron_DF = pd.DataFrame.from_dict(Enron_dictionary, orient = 'index')"
   ]
  },
  {
   "cell_type": "code",
   "execution_count": 8,
   "metadata": {
    "collapsed": false
   },
   "outputs": [
    {
     "data": {
      "text/html": [
       "<div>\n",
       "<table border=\"1\" class=\"dataframe\">\n",
       "  <thead>\n",
       "    <tr style=\"text-align: right;\">\n",
       "      <th></th>\n",
       "      <th>salary</th>\n",
       "      <th>to_messages</th>\n",
       "      <th>deferral_payments</th>\n",
       "      <th>total_payments</th>\n",
       "      <th>exercised_stock_options</th>\n",
       "      <th>bonus</th>\n",
       "      <th>restricted_stock</th>\n",
       "      <th>shared_receipt_with_poi</th>\n",
       "      <th>restricted_stock_deferred</th>\n",
       "      <th>total_stock_value</th>\n",
       "      <th>...</th>\n",
       "      <th>loan_advances</th>\n",
       "      <th>from_messages</th>\n",
       "      <th>other</th>\n",
       "      <th>from_this_person_to_poi</th>\n",
       "      <th>poi</th>\n",
       "      <th>director_fees</th>\n",
       "      <th>deferred_income</th>\n",
       "      <th>long_term_incentive</th>\n",
       "      <th>email_address</th>\n",
       "      <th>from_poi_to_this_person</th>\n",
       "    </tr>\n",
       "  </thead>\n",
       "  <tbody>\n",
       "    <tr>\n",
       "      <th>ALLEN PHILLIP K</th>\n",
       "      <td>201955</td>\n",
       "      <td>2902</td>\n",
       "      <td>2869717</td>\n",
       "      <td>4484442</td>\n",
       "      <td>1729541</td>\n",
       "      <td>4175000</td>\n",
       "      <td>126027</td>\n",
       "      <td>1407</td>\n",
       "      <td>-126027</td>\n",
       "      <td>1729541</td>\n",
       "      <td>...</td>\n",
       "      <td>NaN</td>\n",
       "      <td>2195</td>\n",
       "      <td>152</td>\n",
       "      <td>65</td>\n",
       "      <td>False</td>\n",
       "      <td>NaN</td>\n",
       "      <td>-3081055</td>\n",
       "      <td>304805</td>\n",
       "      <td>phillip.allen@enron.com</td>\n",
       "      <td>47</td>\n",
       "    </tr>\n",
       "    <tr>\n",
       "      <th>BADUM JAMES P</th>\n",
       "      <td>NaN</td>\n",
       "      <td>NaN</td>\n",
       "      <td>178980</td>\n",
       "      <td>182466</td>\n",
       "      <td>257817</td>\n",
       "      <td>NaN</td>\n",
       "      <td>NaN</td>\n",
       "      <td>NaN</td>\n",
       "      <td>NaN</td>\n",
       "      <td>257817</td>\n",
       "      <td>...</td>\n",
       "      <td>NaN</td>\n",
       "      <td>NaN</td>\n",
       "      <td>NaN</td>\n",
       "      <td>NaN</td>\n",
       "      <td>False</td>\n",
       "      <td>NaN</td>\n",
       "      <td>NaN</td>\n",
       "      <td>NaN</td>\n",
       "      <td>NaN</td>\n",
       "      <td>NaN</td>\n",
       "    </tr>\n",
       "    <tr>\n",
       "      <th>BANNANTINE JAMES M</th>\n",
       "      <td>477</td>\n",
       "      <td>566</td>\n",
       "      <td>NaN</td>\n",
       "      <td>916197</td>\n",
       "      <td>4046157</td>\n",
       "      <td>NaN</td>\n",
       "      <td>1757552</td>\n",
       "      <td>465</td>\n",
       "      <td>-560222</td>\n",
       "      <td>5243487</td>\n",
       "      <td>...</td>\n",
       "      <td>NaN</td>\n",
       "      <td>29</td>\n",
       "      <td>864523</td>\n",
       "      <td>0</td>\n",
       "      <td>False</td>\n",
       "      <td>NaN</td>\n",
       "      <td>-5104</td>\n",
       "      <td>NaN</td>\n",
       "      <td>james.bannantine@enron.com</td>\n",
       "      <td>39</td>\n",
       "    </tr>\n",
       "    <tr>\n",
       "      <th>BAXTER JOHN C</th>\n",
       "      <td>267102</td>\n",
       "      <td>NaN</td>\n",
       "      <td>1295738</td>\n",
       "      <td>5634343</td>\n",
       "      <td>6680544</td>\n",
       "      <td>1200000</td>\n",
       "      <td>3942714</td>\n",
       "      <td>NaN</td>\n",
       "      <td>NaN</td>\n",
       "      <td>10623258</td>\n",
       "      <td>...</td>\n",
       "      <td>NaN</td>\n",
       "      <td>NaN</td>\n",
       "      <td>2660303</td>\n",
       "      <td>NaN</td>\n",
       "      <td>False</td>\n",
       "      <td>NaN</td>\n",
       "      <td>-1386055</td>\n",
       "      <td>1586055</td>\n",
       "      <td>NaN</td>\n",
       "      <td>NaN</td>\n",
       "    </tr>\n",
       "    <tr>\n",
       "      <th>BAY FRANKLIN R</th>\n",
       "      <td>239671</td>\n",
       "      <td>NaN</td>\n",
       "      <td>260455</td>\n",
       "      <td>827696</td>\n",
       "      <td>NaN</td>\n",
       "      <td>400000</td>\n",
       "      <td>145796</td>\n",
       "      <td>NaN</td>\n",
       "      <td>-82782</td>\n",
       "      <td>63014</td>\n",
       "      <td>...</td>\n",
       "      <td>NaN</td>\n",
       "      <td>NaN</td>\n",
       "      <td>69</td>\n",
       "      <td>NaN</td>\n",
       "      <td>False</td>\n",
       "      <td>NaN</td>\n",
       "      <td>-201641</td>\n",
       "      <td>NaN</td>\n",
       "      <td>frank.bay@enron.com</td>\n",
       "      <td>NaN</td>\n",
       "    </tr>\n",
       "  </tbody>\n",
       "</table>\n",
       "<p>5 rows × 21 columns</p>\n",
       "</div>"
      ],
      "text/plain": [
       "                    salary to_messages deferral_payments total_payments  \\\n",
       "ALLEN PHILLIP K     201955        2902           2869717        4484442   \n",
       "BADUM JAMES P          NaN         NaN            178980         182466   \n",
       "BANNANTINE JAMES M     477         566               NaN         916197   \n",
       "BAXTER JOHN C       267102         NaN           1295738        5634343   \n",
       "BAY FRANKLIN R      239671         NaN            260455         827696   \n",
       "\n",
       "                   exercised_stock_options    bonus restricted_stock  \\\n",
       "ALLEN PHILLIP K                    1729541  4175000           126027   \n",
       "BADUM JAMES P                       257817      NaN              NaN   \n",
       "BANNANTINE JAMES M                 4046157      NaN          1757552   \n",
       "BAXTER JOHN C                      6680544  1200000          3942714   \n",
       "BAY FRANKLIN R                         NaN   400000           145796   \n",
       "\n",
       "                   shared_receipt_with_poi restricted_stock_deferred  \\\n",
       "ALLEN PHILLIP K                       1407                   -126027   \n",
       "BADUM JAMES P                          NaN                       NaN   \n",
       "BANNANTINE JAMES M                     465                   -560222   \n",
       "BAXTER JOHN C                          NaN                       NaN   \n",
       "BAY FRANKLIN R                         NaN                    -82782   \n",
       "\n",
       "                   total_stock_value           ...           loan_advances  \\\n",
       "ALLEN PHILLIP K              1729541           ...                     NaN   \n",
       "BADUM JAMES P                 257817           ...                     NaN   \n",
       "BANNANTINE JAMES M           5243487           ...                     NaN   \n",
       "BAXTER JOHN C               10623258           ...                     NaN   \n",
       "BAY FRANKLIN R                 63014           ...                     NaN   \n",
       "\n",
       "                   from_messages    other from_this_person_to_poi    poi  \\\n",
       "ALLEN PHILLIP K             2195      152                      65  False   \n",
       "BADUM JAMES P                NaN      NaN                     NaN  False   \n",
       "BANNANTINE JAMES M            29   864523                       0  False   \n",
       "BAXTER JOHN C                NaN  2660303                     NaN  False   \n",
       "BAY FRANKLIN R               NaN       69                     NaN  False   \n",
       "\n",
       "                   director_fees deferred_income long_term_incentive  \\\n",
       "ALLEN PHILLIP K              NaN        -3081055              304805   \n",
       "BADUM JAMES P                NaN             NaN                 NaN   \n",
       "BANNANTINE JAMES M           NaN           -5104                 NaN   \n",
       "BAXTER JOHN C                NaN        -1386055             1586055   \n",
       "BAY FRANKLIN R               NaN         -201641                 NaN   \n",
       "\n",
       "                                 email_address from_poi_to_this_person  \n",
       "ALLEN PHILLIP K        phillip.allen@enron.com                      47  \n",
       "BADUM JAMES P                              NaN                     NaN  \n",
       "BANNANTINE JAMES M  james.bannantine@enron.com                      39  \n",
       "BAXTER JOHN C                              NaN                     NaN  \n",
       "BAY FRANKLIN R             frank.bay@enron.com                     NaN  \n",
       "\n",
       "[5 rows x 21 columns]"
      ]
     },
     "execution_count": 8,
     "metadata": {},
     "output_type": "execute_result"
    }
   ],
   "source": [
    "# Print first few records to check for data and formats\n",
    "enron_DF.head()"
   ]
  },
  {
   "cell_type": "code",
   "execution_count": 9,
   "metadata": {
    "collapsed": false
   },
   "outputs": [
    {
     "name": "stdout",
     "output_type": "stream",
     "text": [
      "(146, 21)\n"
     ]
    }
   ],
   "source": [
    "# No of Rows and Columns\n",
    "print enron_DF.shape\n"
   ]
  },
  {
   "cell_type": "markdown",
   "metadata": {},
   "source": [
    "Dataset has data for 146 people and there are 20 features,since \"poi\" column  is our label which tells us whether person is POI hence you are excluding this coulmn in our prediction model."
   ]
  },
  {
   "cell_type": "code",
   "execution_count": 10,
   "metadata": {
    "collapsed": false
   },
   "outputs": [
    {
     "name": "stdout",
     "output_type": "stream",
     "text": [
      "There are total 146 people in the dataset.\n",
      "Out of them there are 18 POIs and 128 Non POIs.\n"
     ]
    }
   ],
   "source": [
    "\n",
    "print \"There are total {} people in the dataset.\" .format(enron_DF.shape[0]) \n",
    "print \"Out of them there are {} POIs and {} Non POIs.\" .format(enron_DF[enron_DF.poi==True].shape[0] , enron_DF[enron_DF.poi==False].shape[0]) \n"
   ]
  },
  {
   "cell_type": "code",
   "execution_count": 11,
   "metadata": {
    "collapsed": false
   },
   "outputs": [
    {
     "name": "stdout",
     "output_type": "stream",
     "text": [
      "<class 'pandas.core.frame.DataFrame'>\n",
      "Index: 146 entries, ALLEN PHILLIP K to YEAP SOON\n",
      "Data columns (total 21 columns):\n",
      "salary                       146 non-null object\n",
      "to_messages                  146 non-null object\n",
      "deferral_payments            146 non-null object\n",
      "total_payments               146 non-null object\n",
      "exercised_stock_options      146 non-null object\n",
      "bonus                        146 non-null object\n",
      "restricted_stock             146 non-null object\n",
      "shared_receipt_with_poi      146 non-null object\n",
      "restricted_stock_deferred    146 non-null object\n",
      "total_stock_value            146 non-null object\n",
      "expenses                     146 non-null object\n",
      "loan_advances                146 non-null object\n",
      "from_messages                146 non-null object\n",
      "other                        146 non-null object\n",
      "from_this_person_to_poi      146 non-null object\n",
      "poi                          146 non-null bool\n",
      "director_fees                146 non-null object\n",
      "deferred_income              146 non-null object\n",
      "long_term_incentive          146 non-null object\n",
      "email_address                146 non-null object\n",
      "from_poi_to_this_person      146 non-null object\n",
      "dtypes: bool(1), object(20)\n",
      "memory usage: 24.1+ KB\n"
     ]
    },
    {
     "data": {
      "text/html": [
       "<div>\n",
       "<table border=\"1\" class=\"dataframe\">\n",
       "  <thead>\n",
       "    <tr style=\"text-align: right;\">\n",
       "      <th></th>\n",
       "      <th>count</th>\n",
       "      <th>unique</th>\n",
       "      <th>top</th>\n",
       "      <th>freq</th>\n",
       "    </tr>\n",
       "  </thead>\n",
       "  <tbody>\n",
       "    <tr>\n",
       "      <th>salary</th>\n",
       "      <td>146</td>\n",
       "      <td>95</td>\n",
       "      <td>NaN</td>\n",
       "      <td>51</td>\n",
       "    </tr>\n",
       "    <tr>\n",
       "      <th>to_messages</th>\n",
       "      <td>146</td>\n",
       "      <td>87</td>\n",
       "      <td>NaN</td>\n",
       "      <td>60</td>\n",
       "    </tr>\n",
       "    <tr>\n",
       "      <th>deferral_payments</th>\n",
       "      <td>146</td>\n",
       "      <td>40</td>\n",
       "      <td>NaN</td>\n",
       "      <td>107</td>\n",
       "    </tr>\n",
       "    <tr>\n",
       "      <th>total_payments</th>\n",
       "      <td>146</td>\n",
       "      <td>126</td>\n",
       "      <td>NaN</td>\n",
       "      <td>21</td>\n",
       "    </tr>\n",
       "    <tr>\n",
       "      <th>exercised_stock_options</th>\n",
       "      <td>146</td>\n",
       "      <td>102</td>\n",
       "      <td>NaN</td>\n",
       "      <td>44</td>\n",
       "    </tr>\n",
       "    <tr>\n",
       "      <th>bonus</th>\n",
       "      <td>146</td>\n",
       "      <td>42</td>\n",
       "      <td>NaN</td>\n",
       "      <td>64</td>\n",
       "    </tr>\n",
       "    <tr>\n",
       "      <th>restricted_stock</th>\n",
       "      <td>146</td>\n",
       "      <td>98</td>\n",
       "      <td>NaN</td>\n",
       "      <td>36</td>\n",
       "    </tr>\n",
       "    <tr>\n",
       "      <th>shared_receipt_with_poi</th>\n",
       "      <td>146</td>\n",
       "      <td>84</td>\n",
       "      <td>NaN</td>\n",
       "      <td>60</td>\n",
       "    </tr>\n",
       "    <tr>\n",
       "      <th>restricted_stock_deferred</th>\n",
       "      <td>146</td>\n",
       "      <td>19</td>\n",
       "      <td>NaN</td>\n",
       "      <td>128</td>\n",
       "    </tr>\n",
       "    <tr>\n",
       "      <th>total_stock_value</th>\n",
       "      <td>146</td>\n",
       "      <td>125</td>\n",
       "      <td>NaN</td>\n",
       "      <td>20</td>\n",
       "    </tr>\n",
       "    <tr>\n",
       "      <th>expenses</th>\n",
       "      <td>146</td>\n",
       "      <td>95</td>\n",
       "      <td>NaN</td>\n",
       "      <td>51</td>\n",
       "    </tr>\n",
       "    <tr>\n",
       "      <th>loan_advances</th>\n",
       "      <td>146</td>\n",
       "      <td>5</td>\n",
       "      <td>NaN</td>\n",
       "      <td>142</td>\n",
       "    </tr>\n",
       "    <tr>\n",
       "      <th>from_messages</th>\n",
       "      <td>146</td>\n",
       "      <td>65</td>\n",
       "      <td>NaN</td>\n",
       "      <td>60</td>\n",
       "    </tr>\n",
       "    <tr>\n",
       "      <th>other</th>\n",
       "      <td>146</td>\n",
       "      <td>93</td>\n",
       "      <td>NaN</td>\n",
       "      <td>53</td>\n",
       "    </tr>\n",
       "    <tr>\n",
       "      <th>from_this_person_to_poi</th>\n",
       "      <td>146</td>\n",
       "      <td>42</td>\n",
       "      <td>NaN</td>\n",
       "      <td>60</td>\n",
       "    </tr>\n",
       "    <tr>\n",
       "      <th>poi</th>\n",
       "      <td>146</td>\n",
       "      <td>2</td>\n",
       "      <td>False</td>\n",
       "      <td>128</td>\n",
       "    </tr>\n",
       "    <tr>\n",
       "      <th>director_fees</th>\n",
       "      <td>146</td>\n",
       "      <td>18</td>\n",
       "      <td>NaN</td>\n",
       "      <td>129</td>\n",
       "    </tr>\n",
       "    <tr>\n",
       "      <th>deferred_income</th>\n",
       "      <td>146</td>\n",
       "      <td>45</td>\n",
       "      <td>NaN</td>\n",
       "      <td>97</td>\n",
       "    </tr>\n",
       "    <tr>\n",
       "      <th>long_term_incentive</th>\n",
       "      <td>146</td>\n",
       "      <td>53</td>\n",
       "      <td>NaN</td>\n",
       "      <td>80</td>\n",
       "    </tr>\n",
       "    <tr>\n",
       "      <th>email_address</th>\n",
       "      <td>146</td>\n",
       "      <td>112</td>\n",
       "      <td>NaN</td>\n",
       "      <td>35</td>\n",
       "    </tr>\n",
       "    <tr>\n",
       "      <th>from_poi_to_this_person</th>\n",
       "      <td>146</td>\n",
       "      <td>58</td>\n",
       "      <td>NaN</td>\n",
       "      <td>60</td>\n",
       "    </tr>\n",
       "  </tbody>\n",
       "</table>\n",
       "</div>"
      ],
      "text/plain": [
       "                          count unique    top freq\n",
       "salary                      146     95    NaN   51\n",
       "to_messages                 146     87    NaN   60\n",
       "deferral_payments           146     40    NaN  107\n",
       "total_payments              146    126    NaN   21\n",
       "exercised_stock_options     146    102    NaN   44\n",
       "bonus                       146     42    NaN   64\n",
       "restricted_stock            146     98    NaN   36\n",
       "shared_receipt_with_poi     146     84    NaN   60\n",
       "restricted_stock_deferred   146     19    NaN  128\n",
       "total_stock_value           146    125    NaN   20\n",
       "expenses                    146     95    NaN   51\n",
       "loan_advances               146      5    NaN  142\n",
       "from_messages               146     65    NaN   60\n",
       "other                       146     93    NaN   53\n",
       "from_this_person_to_poi     146     42    NaN   60\n",
       "poi                         146      2  False  128\n",
       "director_fees               146     18    NaN  129\n",
       "deferred_income             146     45    NaN   97\n",
       "long_term_incentive         146     53    NaN   80\n",
       "email_address               146    112    NaN   35\n",
       "from_poi_to_this_person     146     58    NaN   60"
      ]
     },
     "execution_count": 11,
     "metadata": {},
     "output_type": "execute_result"
    }
   ],
   "source": [
    "#quick overview of the data in the dataset\n",
    "enron_DF.info()\n",
    "enron_DF.describe().transpose()\n"
   ]
  },
  {
   "cell_type": "markdown",
   "metadata": {},
   "source": [
    "In the above summary table of missing values frequency, there are many features which has more than 50 % NaN values, so I will try not to consider such features which has many missing values."
   ]
  },
  {
   "cell_type": "markdown",
   "metadata": {},
   "source": [
    "### Outlier investigation :"
   ]
  },
  {
   "cell_type": "markdown",
   "metadata": {},
   "source": [
    "In the process of outlier investigation I have identified below three outliers which needs to remove before futher analysis.\n",
    "\n",
    "1- TOTAL: This is a summary of all enron's executives financial data.\n",
    "\n",
    "2- THE TRAVEL AGENCY IN THE PARK : This is a company which was co-owned by the sister of Enron's former Chairman, and here we are investigating Enron's executive, hence we should not include it in our dataset.\n",
    "\n",
    "#### Needs to implement 3- Invalid data points: “LOCKHART EUGENE E” (contains over 95% invalid values). To keep the quality of analysis, these outliers were removed before further analysis."
   ]
  },
  {
   "cell_type": "code",
   "execution_count": 14,
   "metadata": {
    "collapsed": false
   },
   "outputs": [],
   "source": [
    "# Import plotly \n",
    "import plotly\n",
    "from plotly import tools\n",
    "plotly.tools.set_credentials_file(username='******', api_key='*************')\n"
   ]
  },
  {
   "cell_type": "code",
   "execution_count": 15,
   "metadata": {
    "collapsed": false,
    "scrolled": true
   },
   "outputs": [
    {
     "data": {
      "text/html": [
       "<iframe id=\"igraph\" scrolling=\"no\" style=\"border:none;\" seamless=\"seamless\" src=\"https://plot.ly/~vivektheds/2.embed\" height=\"525px\" width=\"100%\"></iframe>"
      ],
      "text/plain": [
       "<plotly.tools.PlotlyDisplay object>"
      ]
     },
     "execution_count": 15,
     "metadata": {},
     "output_type": "execute_result"
    }
   ],
   "source": [
    "import plotly.plotly as py\n",
    "import plotly.graph_objs as go\n",
    "\n",
    "trace1 = go.Scatter(\n",
    "    x=enron_DF.salary,\n",
    "    y=enron_DF.bonus,\n",
    "    mode='markers',\n",
    "    text=enron_DF.index  \n",
    ")\n",
    "\n",
    "\n",
    "data = [trace1]\n",
    "\n",
    "layout = go.Layout(\n",
    "    \n",
    "    xaxis=dict(\n",
    "        title='Salary',\n",
    "        titlefont=dict(\n",
    "            family='Courier New, monospace',\n",
    "            size=18,\n",
    "            color='#7f7f7f'\n",
    "        )\n",
    "    ),\n",
    "    yaxis=dict(\n",
    "        title='Bonus',\n",
    "        titlefont=dict(\n",
    "            family='Courier New, monospace',\n",
    "            size=18,\n",
    "            color='#7f7f7f'\n",
    "        )\n",
    "    )\n",
    "    \n",
    "    #showlegend=True\n",
    ")\n",
    "\n",
    "fig = go.Figure(data=data, layout=layout)\n",
    "py.iplot(fig,filename='Enron-Salary Vs Bonus')"
   ]
  },
  {
   "cell_type": "code",
   "execution_count": 16,
   "metadata": {
    "collapsed": false
   },
   "outputs": [
    {
     "data": {
      "text/html": [
       "<div>\n",
       "<table border=\"1\" class=\"dataframe\">\n",
       "  <thead>\n",
       "    <tr style=\"text-align: right;\">\n",
       "      <th></th>\n",
       "      <th>salary</th>\n",
       "      <th>to_messages</th>\n",
       "      <th>deferral_payments</th>\n",
       "      <th>total_payments</th>\n",
       "      <th>exercised_stock_options</th>\n",
       "      <th>bonus</th>\n",
       "      <th>restricted_stock</th>\n",
       "      <th>shared_receipt_with_poi</th>\n",
       "      <th>restricted_stock_deferred</th>\n",
       "      <th>total_stock_value</th>\n",
       "      <th>...</th>\n",
       "      <th>loan_advances</th>\n",
       "      <th>from_messages</th>\n",
       "      <th>other</th>\n",
       "      <th>from_this_person_to_poi</th>\n",
       "      <th>poi</th>\n",
       "      <th>director_fees</th>\n",
       "      <th>deferred_income</th>\n",
       "      <th>long_term_incentive</th>\n",
       "      <th>email_address</th>\n",
       "      <th>from_poi_to_this_person</th>\n",
       "    </tr>\n",
       "  </thead>\n",
       "  <tbody>\n",
       "    <tr>\n",
       "      <th>TOTAL</th>\n",
       "      <td>26704229</td>\n",
       "      <td>NaN</td>\n",
       "      <td>32083396</td>\n",
       "      <td>309886585</td>\n",
       "      <td>311764000</td>\n",
       "      <td>97343619</td>\n",
       "      <td>130322299</td>\n",
       "      <td>NaN</td>\n",
       "      <td>-7576788</td>\n",
       "      <td>434509511</td>\n",
       "      <td>...</td>\n",
       "      <td>83925000</td>\n",
       "      <td>NaN</td>\n",
       "      <td>42667589</td>\n",
       "      <td>NaN</td>\n",
       "      <td>False</td>\n",
       "      <td>1398517</td>\n",
       "      <td>-27992891</td>\n",
       "      <td>48521928</td>\n",
       "      <td>NaN</td>\n",
       "      <td>NaN</td>\n",
       "    </tr>\n",
       "  </tbody>\n",
       "</table>\n",
       "<p>1 rows × 21 columns</p>\n",
       "</div>"
      ],
      "text/plain": [
       "         salary to_messages deferral_payments total_payments  \\\n",
       "TOTAL  26704229         NaN          32083396      309886585   \n",
       "\n",
       "      exercised_stock_options     bonus restricted_stock  \\\n",
       "TOTAL               311764000  97343619        130322299   \n",
       "\n",
       "      shared_receipt_with_poi restricted_stock_deferred total_stock_value  \\\n",
       "TOTAL                     NaN                  -7576788         434509511   \n",
       "\n",
       "                ...           loan_advances from_messages     other  \\\n",
       "TOTAL           ...                83925000           NaN  42667589   \n",
       "\n",
       "      from_this_person_to_poi    poi director_fees deferred_income  \\\n",
       "TOTAL                     NaN  False       1398517       -27992891   \n",
       "\n",
       "      long_term_incentive email_address from_poi_to_this_person  \n",
       "TOTAL            48521928           NaN                     NaN  \n",
       "\n",
       "[1 rows x 21 columns]"
      ]
     },
     "execution_count": 16,
     "metadata": {},
     "output_type": "execute_result"
    }
   ],
   "source": [
    "enron_DF.loc[['TOTAL']]"
   ]
  },
  {
   "cell_type": "code",
   "execution_count": 17,
   "metadata": {
    "collapsed": false
   },
   "outputs": [
    {
     "data": {
      "text/html": [
       "<div>\n",
       "<table border=\"1\" class=\"dataframe\">\n",
       "  <thead>\n",
       "    <tr style=\"text-align: right;\">\n",
       "      <th></th>\n",
       "      <th>salary</th>\n",
       "      <th>to_messages</th>\n",
       "      <th>deferral_payments</th>\n",
       "      <th>total_payments</th>\n",
       "      <th>exercised_stock_options</th>\n",
       "      <th>bonus</th>\n",
       "      <th>restricted_stock</th>\n",
       "      <th>shared_receipt_with_poi</th>\n",
       "      <th>restricted_stock_deferred</th>\n",
       "      <th>total_stock_value</th>\n",
       "      <th>...</th>\n",
       "      <th>loan_advances</th>\n",
       "      <th>from_messages</th>\n",
       "      <th>other</th>\n",
       "      <th>from_this_person_to_poi</th>\n",
       "      <th>poi</th>\n",
       "      <th>director_fees</th>\n",
       "      <th>deferred_income</th>\n",
       "      <th>long_term_incentive</th>\n",
       "      <th>email_address</th>\n",
       "      <th>from_poi_to_this_person</th>\n",
       "    </tr>\n",
       "  </thead>\n",
       "  <tbody>\n",
       "    <tr>\n",
       "      <th>THE TRAVEL AGENCY IN THE PARK</th>\n",
       "      <td>NaN</td>\n",
       "      <td>NaN</td>\n",
       "      <td>NaN</td>\n",
       "      <td>362096</td>\n",
       "      <td>NaN</td>\n",
       "      <td>NaN</td>\n",
       "      <td>NaN</td>\n",
       "      <td>NaN</td>\n",
       "      <td>NaN</td>\n",
       "      <td>NaN</td>\n",
       "      <td>...</td>\n",
       "      <td>NaN</td>\n",
       "      <td>NaN</td>\n",
       "      <td>362096</td>\n",
       "      <td>NaN</td>\n",
       "      <td>False</td>\n",
       "      <td>NaN</td>\n",
       "      <td>NaN</td>\n",
       "      <td>NaN</td>\n",
       "      <td>NaN</td>\n",
       "      <td>NaN</td>\n",
       "    </tr>\n",
       "  </tbody>\n",
       "</table>\n",
       "<p>1 rows × 21 columns</p>\n",
       "</div>"
      ],
      "text/plain": [
       "                              salary to_messages deferral_payments  \\\n",
       "THE TRAVEL AGENCY IN THE PARK    NaN         NaN               NaN   \n",
       "\n",
       "                              total_payments exercised_stock_options bonus  \\\n",
       "THE TRAVEL AGENCY IN THE PARK         362096                     NaN   NaN   \n",
       "\n",
       "                              restricted_stock shared_receipt_with_poi  \\\n",
       "THE TRAVEL AGENCY IN THE PARK              NaN                     NaN   \n",
       "\n",
       "                              restricted_stock_deferred total_stock_value  \\\n",
       "THE TRAVEL AGENCY IN THE PARK                       NaN               NaN   \n",
       "\n",
       "                                        ...           loan_advances  \\\n",
       "THE TRAVEL AGENCY IN THE PARK           ...                     NaN   \n",
       "\n",
       "                              from_messages   other from_this_person_to_poi  \\\n",
       "THE TRAVEL AGENCY IN THE PARK           NaN  362096                     NaN   \n",
       "\n",
       "                                 poi director_fees deferred_income  \\\n",
       "THE TRAVEL AGENCY IN THE PARK  False           NaN             NaN   \n",
       "\n",
       "                              long_term_incentive email_address  \\\n",
       "THE TRAVEL AGENCY IN THE PARK                 NaN           NaN   \n",
       "\n",
       "                              from_poi_to_this_person  \n",
       "THE TRAVEL AGENCY IN THE PARK                     NaN  \n",
       "\n",
       "[1 rows x 21 columns]"
      ]
     },
     "execution_count": 17,
     "metadata": {},
     "output_type": "execute_result"
    }
   ],
   "source": [
    "enron_DF.loc[['THE TRAVEL AGENCY IN THE PARK']]"
   ]
  },
  {
   "cell_type": "markdown",
   "metadata": {},
   "source": [
    "As per the above graph (before outlier removal) between salary and bonus it is clear that there is one label named as 'TOTAL' which seem an outlier as this belongs to summary of all enron's executives financial data."
   ]
  },
  {
   "cell_type": "code",
   "execution_count": 18,
   "metadata": {
    "collapsed": false
   },
   "outputs": [],
   "source": [
    "# Removing outlier\n",
    "enron_DF.drop(['TOTAL'], inplace= True)\n",
    "enron_DF.drop(['THE TRAVEL AGENCY IN THE PARK'], inplace= True)"
   ]
  },
  {
   "cell_type": "code",
   "execution_count": 19,
   "metadata": {
    "collapsed": false
   },
   "outputs": [
    {
     "data": {
      "text/html": [
       "<iframe id=\"igraph\" scrolling=\"no\" style=\"border:none;\" seamless=\"seamless\" src=\"https://plot.ly/~vivektheds/2.embed\" height=\"525px\" width=\"100%\"></iframe>"
      ],
      "text/plain": [
       "<plotly.tools.PlotlyDisplay object>"
      ]
     },
     "execution_count": 19,
     "metadata": {},
     "output_type": "execute_result"
    }
   ],
   "source": [
    "# After outlier removal \n",
    "\n",
    "trace1 = go.Scatter(\n",
    "    x=enron_DF.salary,\n",
    "    y=enron_DF.bonus,\n",
    "    mode='markers',\n",
    "    text=enron_DF.index  \n",
    ")\n",
    "\n",
    "\n",
    "data = [trace1]\n",
    "\n",
    "layout = go.Layout(\n",
    "    \n",
    "    xaxis=dict(\n",
    "        title='Salary',\n",
    "        titlefont=dict(\n",
    "            family='Courier New, monospace',\n",
    "            size=18,\n",
    "            color='#7f7f7f'\n",
    "        )\n",
    "    ),\n",
    "    yaxis=dict(\n",
    "        title='Bonus',\n",
    "        titlefont=dict(\n",
    "            family='Courier New, monospace',\n",
    "            size=18,\n",
    "            color='#7f7f7f'\n",
    "        )\n",
    "    )\n",
    "    \n",
    "    #showlegend=True\n",
    ")\n",
    "\n",
    "fig = go.Figure(data=data, layout=layout)\n",
    "py.iplot(fig,filename='Enron-Salary Vs Bonus')"
   ]
  },
  {
   "cell_type": "markdown",
   "metadata": {},
   "source": [
    "Even after outlier removal it seems there are still some outliers however those are top executives like kenneth lay, Jef Skilling and Lavorato John (who received cash bonuses of $8 million to keep them from leaving Enron last fall) and they can have big bonus as their salary is also high."
   ]
  },
  {
   "cell_type": "code",
   "execution_count": 20,
   "metadata": {
    "collapsed": false
   },
   "outputs": [
    {
     "data": {
      "text/html": [
       "<iframe id=\"igraph\" scrolling=\"no\" style=\"border:none;\" seamless=\"seamless\" src=\"https://plot.ly/~vivektheds/4.embed\" height=\"525px\" width=\"100%\"></iframe>"
      ],
      "text/plain": [
       "<plotly.tools.PlotlyDisplay object>"
      ]
     },
     "execution_count": 20,
     "metadata": {},
     "output_type": "execute_result"
    }
   ],
   "source": [
    "#import plotly.plotly as py\n",
    "#import plotly.graph_objs as go\n",
    "\n",
    "trace1 = go.Scatter(\n",
    "    x=enron_DF.salary,\n",
    "    y=enron_DF.total_stock_value,\n",
    "    mode='markers',\n",
    "    text=enron_DF.index  \n",
    ")\n",
    "\n",
    "\n",
    "data = [trace1]\n",
    "\n",
    "layout = go.Layout(\n",
    "    \n",
    "    xaxis=dict(\n",
    "        title='Salary',\n",
    "        titlefont=dict(\n",
    "            family='Courier New, monospace',\n",
    "            size=18,\n",
    "            color='#7f7f7f'\n",
    "        )\n",
    "    ),\n",
    "    yaxis=dict(\n",
    "        title='total stock value',\n",
    "        titlefont=dict(\n",
    "            family='Courier New, monospace',\n",
    "            size=18,\n",
    "            color='#7f7f7f'\n",
    "        )\n",
    "    )\n",
    "    \n",
    "    #showlegend=True\n",
    ")\n",
    "\n",
    "fig = go.Figure(data=data, layout=layout)\n",
    "py.iplot(fig,filename='Enron-Salary Vs total stock value')"
   ]
  },
  {
   "cell_type": "markdown",
   "metadata": {},
   "source": [
    "From the above Salary and Total stock value graph it also stand out few of other names as well like Rice Kenneth D and White JR thomas K who got 22 M and 15 M stock values however these figures are susceptible with respect to their salary."
   ]
  },
  {
   "cell_type": "markdown",
   "metadata": {},
   "source": [
    "## Feature Engineering :"
   ]
  },
  {
   "cell_type": "markdown",
   "metadata": {},
   "source": [
    "In feature engineering in addition to 21 features I have created three new features from existing features that could improve the performance of Enron POI prediction."
   ]
  },
  {
   "cell_type": "markdown",
   "metadata": {},
   "source": [
    "- from_poi_ratio: fraction of emails from POIs,which represents the ratio of the messages from POI to this person against all the messages sent to this person\n",
    "\n",
    "- to_poi_ratio: fraction of emails to POIs,which represents ratio from this person to POI against all messages from this person.\n",
    "\n",
    "- shared_poi_ratio: the ratio of email receipts shared with a person of interest to all emails addressed to that individual. \n"
   ]
  },
  {
   "cell_type": "markdown",
   "metadata": {},
   "source": [
    "The rational behind these choices is that the absolute no of emails from/to a POIs might be misleading figure because there might be some innocent employees who just sent/received many emails from POIs as part of your daily official work, however\n",
    "fraction of these emails to total message may help us to identify the TRUE POIs since corporate fraud can not be done alone and it requires a set of people to do that at larger scale."
   ]
  },
  {
   "cell_type": "code",
   "execution_count": 30,
   "metadata": {
    "collapsed": true
   },
   "outputs": [],
   "source": [
    "# Add the new email features to the dataframe\n",
    "enron_DF['to_poi_ratio'] = enron_DF['from_poi_to_this_person']/enron_DF['to_messages']\n",
    "enron_DF['from_poi_ratio'] = enron_DF['from_this_person_to_poi'] / enron_DF['from_messages']\n",
    "enron_DF['shared_poi_ratio'] = enron_DF['shared_receipt_with_poi'] / enron_DF['to_messages']\n",
    "\n",
    "enron_DF.replace(to_replace='NaN', value=0.0, inplace=True)"
   ]
  },
  {
   "cell_type": "markdown",
   "metadata": {},
   "source": [
    "## Feature Scaling : "
   ]
  },
  {
   "cell_type": "markdown",
   "metadata": {},
   "source": [
    "It is used to standardize the data of all features. As all features had different units and some of the features had very high value which can have undue influence on the classifier hence in order to make data standard/scaled for classifiers I have used preprocessing.scale() function from sklearn to scale all features to a range between 0 and 1.\n"
   ]
  },
  {
   "cell_type": "code",
   "execution_count": 33,
   "metadata": {
    "collapsed": false
   },
   "outputs": [],
   "source": [
    "import numpy as np\n",
    "import pandas as pd\n",
    "from sklearn.cross_validation import train_test_split\n",
    "from sklearn.tree import DecisionTreeClassifier\n",
    "from sklearn.metrics import accuracy_score\n",
    "from sklearn import tree\n",
    "from sklearn import preprocessing, cross_validation, svm\n",
    "from sklearn.metrics import classification_report\n",
    "\n",
    "x1 = enron_DF.drop(['email_address','poi'], axis=1)\n",
    "x1 = preprocessing.scale(x1)"
   ]
  },
  {
   "cell_type": "markdown",
   "metadata": {},
   "source": [
    "## Feature Selection (intelligently select features)"
   ]
  },
  {
   "cell_type": "markdown",
   "metadata": {},
   "source": [
    "Feature selection is very important aspect because all features does not equally participate in the prediction and that can add noisy data to our prediction model, so it's very important to feed right set of features which can give us better prediction results.\n",
    "\n",
    "In order to decide the best features to use, I utilized an automated feature selection function, i.e. SelectKBest, which selects the K features that are defined by the amount of variance explained, automatically selected for use in the classifier. \n"
   ]
  },
  {
   "cell_type": "code",
   "execution_count": 36,
   "metadata": {
    "collapsed": false
   },
   "outputs": [
    {
     "name": "stdout",
     "output_type": "stream",
     "text": [
      "[ 18.576   1.699   0.217   8.874  25.098  21.06    9.347   8.746   0.065\n",
      "  24.468   6.234   7.243   0.164   4.246   2.427   2.108  11.596  10.072\n",
      "   5.345   3.211  16.642   9.296]\n",
      "[ 4.518  0.711  0.192  2.468  5.797  5.013  2.573  2.44   0.097  5.677\n",
      "  1.864  2.098  0.164  1.385  0.915  0.827  3.066  2.734  1.653  1.123\n",
      "  4.125  2.562]\n",
      "[[  2.020e+05   1.730e+06   4.175e+06   1.730e+06   2.961e-02]\n",
      " [  0.000e+00   2.578e+05   0.000e+00   2.578e+05   0.000e+00]\n",
      " [  4.770e+02   4.046e+06   0.000e+00   5.243e+06   0.000e+00]\n",
      " [  2.671e+05   6.681e+06   1.200e+06   1.062e+07   0.000e+00]\n",
      " [  2.397e+05   0.000e+00   4.000e+05   6.301e+04   0.000e+00]]\n",
      "(144L, 5L)\n",
      "[ 0  4  5  9 20]\n"
     ]
    },
    {
     "data": {
      "text/plain": [
       "['salary',\n",
       " 'exercised_stock_options',\n",
       " 'bonus',\n",
       " 'total_stock_value',\n",
       " 'from_poi_ratio']"
      ]
     },
     "execution_count": 36,
     "metadata": {},
     "output_type": "execute_result"
    }
   ],
   "source": [
    "\n",
    "# Feature Extraction with Univariate Statistical Tests (Chi-squared for classification)\n",
    "import pandas\n",
    "import numpy\n",
    "from sklearn.feature_selection import SelectKBest\n",
    "from sklearn.feature_selection import chi2\n",
    "\n",
    "x1 = enron_DF.drop(['email_address','poi'], axis=1)\n",
    "#x1 = preprocessing.scale(x1)\n",
    "y1=enron_DF['poi']\n",
    "\n",
    "# feature extraction\n",
    "test = SelectKBest(score_func=f_classif, k=5)\n",
    "fit = test.fit(x1, y1)\n",
    "# summarize scores\n",
    "numpy.set_printoptions(precision=3)\n",
    "print(fit.scores_)\n",
    "scores1 = -np.log10(test.pvalues_)\n",
    "print scores1\n",
    "\n",
    "features = fit.transform(x1)\n",
    "# summarize selected features\n",
    "print(features[0:5,:])\n",
    "\n",
    "print features.shape\n",
    "print(test.get_support(indices=True))\n",
    "\n",
    "#2nd way\n",
    "x1.columns[test.get_support(indices=True)].tolist()"
   ]
  },
  {
   "cell_type": "code",
   "execution_count": null,
   "metadata": {
    "collapsed": true
   },
   "outputs": [],
   "source": []
  },
  {
   "cell_type": "code",
   "execution_count": null,
   "metadata": {
    "collapsed": true
   },
   "outputs": [],
   "source": []
  },
  {
   "cell_type": "code",
   "execution_count": 21,
   "metadata": {
    "collapsed": false
   },
   "outputs": [
    {
     "name": "stdout",
     "output_type": "stream",
     "text": [
      "                    salary to_messages deferral_payments total_payments  \\\n",
      "ALLEN PHILLIP K     201955        2902           2869717        4484442   \n",
      "BADUM JAMES P          NaN         NaN            178980         182466   \n",
      "BANNANTINE JAMES M     477         566               NaN         916197   \n",
      "BAXTER JOHN C       267102         NaN           1295738        5634343   \n",
      "BAY FRANKLIN R      239671         NaN            260455         827696   \n",
      "\n",
      "                   exercised_stock_options    bonus restricted_stock  \\\n",
      "ALLEN PHILLIP K                    1729541  4175000           126027   \n",
      "BADUM JAMES P                       257817      NaN              NaN   \n",
      "BANNANTINE JAMES M                 4046157      NaN          1757552   \n",
      "BAXTER JOHN C                      6680544  1200000          3942714   \n",
      "BAY FRANKLIN R                         NaN   400000           145796   \n",
      "\n",
      "                   shared_receipt_with_poi restricted_stock_deferred  \\\n",
      "ALLEN PHILLIP K                       1407                   -126027   \n",
      "BADUM JAMES P                          NaN                       NaN   \n",
      "BANNANTINE JAMES M                     465                   -560222   \n",
      "BAXTER JOHN C                          NaN                       NaN   \n",
      "BAY FRANKLIN R                         NaN                    -82782   \n",
      "\n",
      "                   total_stock_value           ...           loan_advances  \\\n",
      "ALLEN PHILLIP K              1729541           ...                     NaN   \n",
      "BADUM JAMES P                 257817           ...                     NaN   \n",
      "BANNANTINE JAMES M           5243487           ...                     NaN   \n",
      "BAXTER JOHN C               10623258           ...                     NaN   \n",
      "BAY FRANKLIN R                 63014           ...                     NaN   \n",
      "\n",
      "                   from_messages    other from_this_person_to_poi    poi  \\\n",
      "ALLEN PHILLIP K             2195      152                      65  False   \n",
      "BADUM JAMES P                NaN      NaN                     NaN  False   \n",
      "BANNANTINE JAMES M            29   864523                       0  False   \n",
      "BAXTER JOHN C                NaN  2660303                     NaN  False   \n",
      "BAY FRANKLIN R               NaN       69                     NaN  False   \n",
      "\n",
      "                   director_fees deferred_income long_term_incentive  \\\n",
      "ALLEN PHILLIP K              NaN        -3081055              304805   \n",
      "BADUM JAMES P                NaN             NaN                 NaN   \n",
      "BANNANTINE JAMES M           NaN           -5104                 NaN   \n",
      "BAXTER JOHN C                NaN        -1386055             1586055   \n",
      "BAY FRANKLIN R               NaN         -201641                 NaN   \n",
      "\n",
      "                                 email_address from_poi_to_this_person  \n",
      "ALLEN PHILLIP K        phillip.allen@enron.com                      47  \n",
      "BADUM JAMES P                              NaN                     NaN  \n",
      "BANNANTINE JAMES M  james.bannantine@enron.com                      39  \n",
      "BAXTER JOHN C                              NaN                     NaN  \n",
      "BAY FRANKLIN R             frank.bay@enron.com                     NaN  \n",
      "\n",
      "[5 rows x 21 columns]\n"
     ]
    },
    {
     "data": {
      "text/plain": [
       "array([[201955, 2902, 2869717, ..., 304805, 'phillip.allen@enron.com', 47],\n",
       "       ['NaN', 'NaN', 178980, ..., 'NaN', 'NaN', 'NaN'],\n",
       "       [477, 566, 'NaN', ..., 'NaN', 'james.bannantine@enron.com', 39],\n",
       "       ..., \n",
       "       ['NaN', 'NaN', 'NaN', ..., 'NaN', 'NaN', 'NaN'],\n",
       "       [158403, 'NaN', 'NaN', ..., 'NaN', 'scott.yeager@enron.com', 'NaN'],\n",
       "       ['NaN', 'NaN', 'NaN', ..., 'NaN', 'NaN', 'NaN']], dtype=object)"
      ]
     },
     "execution_count": 21,
     "metadata": {},
     "output_type": "execute_result"
    }
   ],
   "source": [
    "print enron_DF.head()\n",
    "enron_DF.values"
   ]
  },
  {
   "cell_type": "code",
   "execution_count": 23,
   "metadata": {
    "collapsed": false
   },
   "outputs": [],
   "source": [
    "predictors = [\"salary\", \"to_messages\", \"deferral_payments\", \"total_payments\", \"exercised_stock_options\", \"Fare\", \"Embarked\", \"FamilySize\", \"Title\", \"FamilyId\"]"
   ]
  },
  {
   "cell_type": "code",
   "execution_count": 26,
   "metadata": {
    "collapsed": false
   },
   "outputs": [
    {
     "name": "stdout",
     "output_type": "stream",
     "text": [
      "                      salary  to_messages  deferral_payments  total_payments  \\\n",
      "ALLEN PHILLIP K     201955.0       2902.0          2869717.0       4484442.0   \n",
      "BADUM JAMES P            0.0          0.0           178980.0        182466.0   \n",
      "BANNANTINE JAMES M     477.0        566.0                0.0        916197.0   \n",
      "BAXTER JOHN C       267102.0          0.0          1295738.0       5634343.0   \n",
      "BAY FRANKLIN R      239671.0          0.0           260455.0        827696.0   \n",
      "\n",
      "                    exercised_stock_options      bonus  restricted_stock  \\\n",
      "ALLEN PHILLIP K                   1729541.0  4175000.0          126027.0   \n",
      "BADUM JAMES P                      257817.0        0.0               0.0   \n",
      "BANNANTINE JAMES M                4046157.0        0.0         1757552.0   \n",
      "BAXTER JOHN C                     6680544.0  1200000.0         3942714.0   \n",
      "BAY FRANKLIN R                          0.0   400000.0          145796.0   \n",
      "\n",
      "                    shared_receipt_with_poi  restricted_stock_deferred  \\\n",
      "ALLEN PHILLIP K                      1407.0                  -126027.0   \n",
      "BADUM JAMES P                           0.0                        0.0   \n",
      "BANNANTINE JAMES M                    465.0                  -560222.0   \n",
      "BAXTER JOHN C                           0.0                        0.0   \n",
      "BAY FRANKLIN R                          0.0                   -82782.0   \n",
      "\n",
      "                    total_stock_value  expenses  loan_advances  from_messages  \\\n",
      "ALLEN PHILLIP K             1729541.0   13868.0            0.0         2195.0   \n",
      "BADUM JAMES P                257817.0    3486.0            0.0            0.0   \n",
      "BANNANTINE JAMES M          5243487.0   56301.0            0.0           29.0   \n",
      "BAXTER JOHN C              10623258.0   11200.0            0.0            0.0   \n",
      "BAY FRANKLIN R                63014.0  129142.0            0.0            0.0   \n",
      "\n",
      "                        other  from_this_person_to_poi  director_fees  \\\n",
      "ALLEN PHILLIP K         152.0                     65.0            0.0   \n",
      "BADUM JAMES P             0.0                      0.0            0.0   \n",
      "BANNANTINE JAMES M   864523.0                      0.0            0.0   \n",
      "BAXTER JOHN C       2660303.0                      0.0            0.0   \n",
      "BAY FRANKLIN R           69.0                      0.0            0.0   \n",
      "\n",
      "                    deferred_income  long_term_incentive  \\\n",
      "ALLEN PHILLIP K          -3081055.0             304805.0   \n",
      "BADUM JAMES P                   0.0                  0.0   \n",
      "BANNANTINE JAMES M          -5104.0                  0.0   \n",
      "BAXTER JOHN C            -1386055.0            1586055.0   \n",
      "BAY FRANKLIN R            -201641.0                  0.0   \n",
      "\n",
      "                                 email_address  from_poi_to_this_person  \n",
      "ALLEN PHILLIP K        phillip.allen@enron.com                     47.0  \n",
      "BADUM JAMES P                                0                      0.0  \n",
      "BANNANTINE JAMES M  james.bannantine@enron.com                     39.0  \n",
      "BAXTER JOHN C                                0                      0.0  \n",
      "BAY FRANKLIN R             frank.bay@enron.com                      0.0  \n"
     ]
    }
   ],
   "source": [
    "enron_DF.replace(to_replace='NaN', value=0.0, inplace=True)\n",
    "enron_DF1 = enron_DF.drop(['poi'], axis=1)\n",
    "print enron_DF1.head()\n",
    "enron_DF_POI=enron_DF['poi']\n",
    "#print enron_DF_POI"
   ]
  },
  {
   "cell_type": "code",
   "execution_count": 27,
   "metadata": {
    "collapsed": false
   },
   "outputs": [
    {
     "name": "stdout",
     "output_type": "stream",
     "text": [
      "                                salary  to_messages  total_payments  \\\n",
      "ALLEN PHILLIP K               201955.0       2902.0       4484442.0   \n",
      "BADUM JAMES P                      0.0          0.0        182466.0   \n",
      "BANNANTINE JAMES M               477.0        566.0        916197.0   \n",
      "BAXTER JOHN C                 267102.0          0.0       5634343.0   \n",
      "BAY FRANKLIN R                239671.0          0.0        827696.0   \n",
      "BAZELIDES PHILIP J             80818.0          0.0        860136.0   \n",
      "BECK SALLY W                  231330.0       7315.0        969068.0   \n",
      "BELDEN TIMOTHY N              213999.0       7991.0       5501630.0   \n",
      "BELFER ROBERT                      0.0          0.0        102500.0   \n",
      "BERBERIAN DAVID               216582.0          0.0        228474.0   \n",
      "BERGSIEKER RICHARD P          187922.0        383.0        618850.0   \n",
      "BHATNAGAR SANJAY                   0.0        523.0      15456290.0   \n",
      "BIBI PHILIPPE A               213625.0       1607.0       2047593.0   \n",
      "BLACHMAN JEREMY M             248546.0       2475.0       2014835.0   \n",
      "BLAKE JR. NORMAN P                 0.0          0.0          1279.0   \n",
      "BOWEN JR RAYMOND M            278601.0       1858.0       2669589.0   \n",
      "BROWN MICHAEL                      0.0       1486.0         49288.0   \n",
      "BUCHANAN HAROLD G             248017.0       1088.0       1054637.0   \n",
      "BUTTS ROBERT H                261516.0          0.0       1271582.0   \n",
      "BUY RICHARD B                 330546.0       3523.0       2355702.0   \n",
      "CALGER CHRISTOPHER F          240189.0       2598.0       1639297.0   \n",
      "CARTER REBECCA C              261809.0        312.0        477557.0   \n",
      "CAUSEY RICHARD A              415189.0       1892.0       1868758.0   \n",
      "CHAN RONNIE                        0.0          0.0             0.0   \n",
      "CHRISTODOULOU DIOMEDES             0.0          0.0             0.0   \n",
      "CLINE KENNETH W                    0.0          0.0             0.0   \n",
      "COLWELL WESLEY                288542.0       1758.0       1490344.0   \n",
      "CORDES WILLIAM R                   0.0        764.0             0.0   \n",
      "COX DAVID                     314288.0        102.0       1101393.0   \n",
      "CUMBERLAND MICHAEL S          184899.0          0.0        807956.0   \n",
      "...                                ...          ...             ...   \n",
      "SAVAGE FRANK                       0.0          0.0          3750.0   \n",
      "SCRIMSHAW MATTHEW                  0.0          0.0             0.0   \n",
      "SHANKMAN JEFFREY A            304110.0       3221.0       3038702.0   \n",
      "SHAPIRO RICHARD S             269076.0      15149.0       1057548.0   \n",
      "SHARP VICTORIA T              248146.0       3136.0       1576511.0   \n",
      "SHELBY REX                    211844.0        225.0       2003885.0   \n",
      "SHERRICK JEFFREY B                 0.0        613.0             0.0   \n",
      "SHERRIFF JOHN R               428780.0       3187.0       4335388.0   \n",
      "SKILLING JEFFREY K           1111258.0       3627.0       8682716.0   \n",
      "STABLER FRANK                 239502.0          0.0       1112087.0   \n",
      "SULLIVAN-SHAKLOVITZ COLLEEN   162779.0          0.0        999356.0   \n",
      "SUNDE MARTIN                  257486.0       2647.0       1545059.0   \n",
      "TAYLOR MITCHELL S             265214.0        533.0       1092663.0   \n",
      "THORN TERENCE H               222093.0        266.0        911453.0   \n",
      "TILNEY ELIZABETH A            247338.0        460.0        399393.0   \n",
      "UMANOFF ADAM S                288589.0        111.0       1130461.0   \n",
      "URQUHART JOHN A                    0.0          0.0        228656.0   \n",
      "WAKEHAM JOHN                       0.0          0.0        213071.0   \n",
      "WALLS JR ROBERT H             357091.0        671.0       1798780.0   \n",
      "WALTERS GARETH W                   0.0          0.0         87410.0   \n",
      "WASAFF GEORGE                 259996.0        400.0       1034395.0   \n",
      "WESTFAHL RICHARD K             63744.0          0.0        762135.0   \n",
      "WHALEY DAVID A                     0.0          0.0             0.0   \n",
      "WHALLEY LAWRENCE G            510364.0       6019.0       4677574.0   \n",
      "WHITE JR THOMAS E             317543.0          0.0       1934359.0   \n",
      "WINOKUR JR. HERBERT S              0.0          0.0         84992.0   \n",
      "WODRASKA JOHN                      0.0          0.0        189583.0   \n",
      "WROBEL BRUCE                       0.0          0.0             0.0   \n",
      "YEAGER F SCOTT                158403.0          0.0        360300.0   \n",
      "YEAP SOON                          0.0          0.0         55097.0   \n",
      "\n",
      "                             exercised_stock_options      bonus  \\\n",
      "ALLEN PHILLIP K                            1729541.0  4175000.0   \n",
      "BADUM JAMES P                               257817.0        0.0   \n",
      "BANNANTINE JAMES M                         4046157.0        0.0   \n",
      "BAXTER JOHN C                              6680544.0  1200000.0   \n",
      "BAY FRANKLIN R                                   0.0   400000.0   \n",
      "BAZELIDES PHILIP J                         1599641.0        0.0   \n",
      "BECK SALLY W                                     0.0   700000.0   \n",
      "BELDEN TIMOTHY N                            953136.0  5249999.0   \n",
      "BELFER ROBERT                                 3285.0        0.0   \n",
      "BERBERIAN DAVID                            1624396.0        0.0   \n",
      "BERGSIEKER RICHARD P                             0.0   250000.0   \n",
      "BHATNAGAR SANJAY                           2604490.0        0.0   \n",
      "BIBI PHILIPPE A                            1465734.0  1000000.0   \n",
      "BLACHMAN JEREMY M                           765313.0   850000.0   \n",
      "BLAKE JR. NORMAN P                               0.0        0.0   \n",
      "BOWEN JR RAYMOND M                               0.0  1350000.0   \n",
      "BROWN MICHAEL                                    0.0        0.0   \n",
      "BUCHANAN HAROLD G                           825464.0   500000.0   \n",
      "BUTTS ROBERT H                                   0.0   750000.0   \n",
      "BUY RICHARD B                              2542813.0   900000.0   \n",
      "CALGER CHRISTOPHER F                             0.0  1250000.0   \n",
      "CARTER REBECCA C                                 0.0   300000.0   \n",
      "CAUSEY RICHARD A                                 0.0  1000000.0   \n",
      "CHAN RONNIE                                      0.0        0.0   \n",
      "CHRISTODOULOU DIOMEDES                     5127155.0        0.0   \n",
      "CLINE KENNETH W                                  0.0        0.0   \n",
      "COLWELL WESLEY                                   0.0  1200000.0   \n",
      "CORDES WILLIAM R                            651850.0        0.0   \n",
      "COX DAVID                                   117551.0   800000.0   \n",
      "CUMBERLAND MICHAEL S                             0.0   325000.0   \n",
      "...                                              ...        ...   \n",
      "SAVAGE FRANK                                     0.0        0.0   \n",
      "SCRIMSHAW MATTHEW                           759557.0        0.0   \n",
      "SHANKMAN JEFFREY A                         1441898.0  2000000.0   \n",
      "SHAPIRO RICHARD S                           607837.0   650000.0   \n",
      "SHARP VICTORIA T                            281073.0   600000.0   \n",
      "SHELBY REX                                 1624396.0   200000.0   \n",
      "SHERRICK JEFFREY B                         1426469.0        0.0   \n",
      "SHERRIFF JOHN R                            1835558.0  1500000.0   \n",
      "SKILLING JEFFREY K                        19250000.0  5600000.0   \n",
      "STABLER FRANK                                    0.0   500000.0   \n",
      "SULLIVAN-SHAKLOVITZ COLLEEN                1362375.0   100000.0   \n",
      "SUNDE MARTIN                                     0.0   700000.0   \n",
      "TAYLOR MITCHELL S                          3181250.0   600000.0   \n",
      "THORN TERENCE H                            4452476.0        0.0   \n",
      "TILNEY ELIZABETH A                          591250.0   300000.0   \n",
      "UMANOFF ADAM S                                   0.0   788750.0   \n",
      "URQUHART JOHN A                                  0.0        0.0   \n",
      "WAKEHAM JOHN                                     0.0        0.0   \n",
      "WALLS JR ROBERT H                          4346544.0   850000.0   \n",
      "WALTERS GARETH W                           1030329.0        0.0   \n",
      "WASAFF GEORGE                              1668260.0   325000.0   \n",
      "WESTFAHL RICHARD K                               0.0        0.0   \n",
      "WHALEY DAVID A                               98718.0        0.0   \n",
      "WHALLEY LAWRENCE G                         3282960.0  3000000.0   \n",
      "WHITE JR THOMAS E                          1297049.0   450000.0   \n",
      "WINOKUR JR. HERBERT S                            0.0        0.0   \n",
      "WODRASKA JOHN                                    0.0        0.0   \n",
      "WROBEL BRUCE                                139130.0        0.0   \n",
      "YEAGER F SCOTT                             8308552.0        0.0   \n",
      "YEAP SOON                                   192758.0        0.0   \n",
      "\n",
      "                             restricted_stock  shared_receipt_with_poi  \\\n",
      "ALLEN PHILLIP K                      126027.0                   1407.0   \n",
      "BADUM JAMES P                             0.0                      0.0   \n",
      "BANNANTINE JAMES M                  1757552.0                    465.0   \n",
      "BAXTER JOHN C                       3942714.0                      0.0   \n",
      "BAY FRANKLIN R                       145796.0                      0.0   \n",
      "BAZELIDES PHILIP J                        0.0                      0.0   \n",
      "BECK SALLY W                         126027.0                   2639.0   \n",
      "BELDEN TIMOTHY N                     157569.0                   5521.0   \n",
      "BELFER ROBERT                             0.0                      0.0   \n",
      "BERBERIAN DAVID                      869220.0                      0.0   \n",
      "BERGSIEKER RICHARD P                 659249.0                    233.0   \n",
      "BHATNAGAR SANJAY                   -2604490.0                    463.0   \n",
      "BIBI PHILIPPE A                      378082.0                   1336.0   \n",
      "BLACHMAN JEREMY M                    189041.0                   2326.0   \n",
      "BLAKE JR. NORMAN P                        0.0                      0.0   \n",
      "BOWEN JR RAYMOND M                   252055.0                   1593.0   \n",
      "BROWN MICHAEL                             0.0                    761.0   \n",
      "BUCHANAN HAROLD G                    189041.0                     23.0   \n",
      "BUTTS ROBERT H                       417619.0                      0.0   \n",
      "BUY RICHARD B                        901657.0                   2333.0   \n",
      "CALGER CHRISTOPHER F                 126027.0                   2188.0   \n",
      "CARTER REBECCA C                     307301.0                    196.0   \n",
      "CAUSEY RICHARD A                    2502063.0                   1585.0   \n",
      "CHAN RONNIE                           32460.0                      0.0   \n",
      "CHRISTODOULOU DIOMEDES               950730.0                      0.0   \n",
      "CLINE KENNETH W                      662086.0                      0.0   \n",
      "COLWELL WESLEY                       698242.0                   1132.0   \n",
      "CORDES WILLIAM R                     386335.0                     58.0   \n",
      "COX DAVID                            378082.0                     71.0   \n",
      "CUMBERLAND MICHAEL S                 207940.0                      0.0   \n",
      "...                                       ...                      ...   \n",
      "SAVAGE FRANK                              0.0                      0.0   \n",
      "SCRIMSHAW MATTHEW                         0.0                      0.0   \n",
      "SHANKMAN JEFFREY A                   630137.0                   1730.0   \n",
      "SHAPIRO RICHARD S                    379164.0                   4527.0   \n",
      "SHARP VICTORIA T                     213063.0                   2477.0   \n",
      "SHELBY REX                           869220.0                     91.0   \n",
      "SHERRICK JEFFREY B                   405999.0                    583.0   \n",
      "SHERRIFF JOHN R                     1293424.0                   2103.0   \n",
      "SKILLING JEFFREY K                  6843672.0                   2042.0   \n",
      "STABLER FRANK                        511734.0                      0.0   \n",
      "SULLIVAN-SHAKLOVITZ COLLEEN               0.0                      0.0   \n",
      "SUNDE MARTIN                         698920.0                   2565.0   \n",
      "TAYLOR MITCHELL S                    563798.0                    300.0   \n",
      "THORN TERENCE H                      365320.0                     73.0   \n",
      "TILNEY ELIZABETH A                   576792.0                    379.0   \n",
      "UMANOFF ADAM S                            0.0                     41.0   \n",
      "URQUHART JOHN A                           0.0                      0.0   \n",
      "WAKEHAM JOHN                              0.0                      0.0   \n",
      "WALLS JR ROBERT H                   1552453.0                    215.0   \n",
      "WALTERS GARETH W                          0.0                      0.0   \n",
      "WASAFF GEORGE                        388167.0                    337.0   \n",
      "WESTFAHL RICHARD K                   384930.0                      0.0   \n",
      "WHALEY DAVID A                            0.0                      0.0   \n",
      "WHALLEY LAWRENCE G                  2796177.0                   3920.0   \n",
      "WHITE JR THOMAS E                  13847074.0                      0.0   \n",
      "WINOKUR JR. HERBERT S                     0.0                      0.0   \n",
      "WODRASKA JOHN                             0.0                      0.0   \n",
      "WROBEL BRUCE                              0.0                      0.0   \n",
      "YEAGER F SCOTT                      3576206.0                      0.0   \n",
      "YEAP SOON                                 0.0                      0.0   \n",
      "\n",
      "                             total_stock_value  expenses  loan_advances  \\\n",
      "ALLEN PHILLIP K                      1729541.0   13868.0            0.0   \n",
      "BADUM JAMES P                         257817.0    3486.0            0.0   \n",
      "BANNANTINE JAMES M                   5243487.0   56301.0            0.0   \n",
      "BAXTER JOHN C                       10623258.0   11200.0            0.0   \n",
      "BAY FRANKLIN R                         63014.0  129142.0            0.0   \n",
      "BAZELIDES PHILIP J                   1599641.0       0.0            0.0   \n",
      "BECK SALLY W                          126027.0   37172.0            0.0   \n",
      "BELDEN TIMOTHY N                     1110705.0   17355.0            0.0   \n",
      "BELFER ROBERT                         -44093.0       0.0            0.0   \n",
      "BERBERIAN DAVID                      2493616.0   11892.0            0.0   \n",
      "BERGSIEKER RICHARD P                  659249.0   59175.0            0.0   \n",
      "BHATNAGAR SANJAY                           0.0       0.0            0.0   \n",
      "BIBI PHILIPPE A                      1843816.0   38559.0            0.0   \n",
      "BLACHMAN JEREMY M                     954354.0   84208.0            0.0   \n",
      "BLAKE JR. NORMAN P                         0.0    1279.0            0.0   \n",
      "BOWEN JR RAYMOND M                    252055.0   65907.0            0.0   \n",
      "BROWN MICHAEL                              0.0   49288.0            0.0   \n",
      "BUCHANAN HAROLD G                    1014505.0     600.0            0.0   \n",
      "BUTTS ROBERT H                        417619.0    9410.0            0.0   \n",
      "BUY RICHARD B                        3444470.0       0.0            0.0   \n",
      "CALGER CHRISTOPHER F                  126027.0   35818.0            0.0   \n",
      "CARTER REBECCA C                           0.0       0.0            0.0   \n",
      "CAUSEY RICHARD A                     2502063.0   30674.0            0.0   \n",
      "CHAN RONNIE                                0.0       0.0            0.0   \n",
      "CHRISTODOULOU DIOMEDES               6077885.0       0.0            0.0   \n",
      "CLINE KENNETH W                       189518.0       0.0            0.0   \n",
      "COLWELL WESLEY                        698242.0   16514.0            0.0   \n",
      "CORDES WILLIAM R                     1038185.0       0.0            0.0   \n",
      "COX DAVID                             495633.0   27861.0            0.0   \n",
      "CUMBERLAND MICHAEL S                  207940.0   22344.0            0.0   \n",
      "...                                        ...       ...            ...   \n",
      "SAVAGE FRANK                               0.0       0.0            0.0   \n",
      "SCRIMSHAW MATTHEW                     759557.0       0.0            0.0   \n",
      "SHANKMAN JEFFREY A                   2072035.0  178979.0            0.0   \n",
      "SHAPIRO RICHARD S                     987001.0  137767.0            0.0   \n",
      "SHARP VICTORIA T                      494136.0  116337.0            0.0   \n",
      "SHELBY REX                           2493616.0   22884.0            0.0   \n",
      "SHERRICK JEFFREY B                   1832468.0       0.0            0.0   \n",
      "SHERRIFF JOHN R                      3128982.0       0.0            0.0   \n",
      "SKILLING JEFFREY K                  26093672.0   29336.0            0.0   \n",
      "STABLER FRANK                         511734.0   16514.0            0.0   \n",
      "SULLIVAN-SHAKLOVITZ COLLEEN          1362375.0       0.0            0.0   \n",
      "SUNDE MARTIN                          698920.0       0.0            0.0   \n",
      "TAYLOR MITCHELL S                    3745048.0       0.0            0.0   \n",
      "THORN TERENCE H                      4817796.0   46145.0            0.0   \n",
      "TILNEY ELIZABETH A                   1168042.0       0.0            0.0   \n",
      "UMANOFF ADAM S                             0.0   53122.0            0.0   \n",
      "URQUHART JOHN A                            0.0  228656.0            0.0   \n",
      "WAKEHAM JOHN                               0.0  103773.0            0.0   \n",
      "WALLS JR ROBERT H                    5898997.0   50936.0            0.0   \n",
      "WALTERS GARETH W                     1030329.0   33785.0            0.0   \n",
      "WASAFF GEORGE                        2056427.0       0.0            0.0   \n",
      "WESTFAHL RICHARD K                    384930.0   51870.0            0.0   \n",
      "WHALEY DAVID A                         98718.0       0.0            0.0   \n",
      "WHALLEY LAWRENCE G                   6079137.0   57838.0            0.0   \n",
      "WHITE JR THOMAS E                   15144123.0   81353.0            0.0   \n",
      "WINOKUR JR. HERBERT S                      0.0    1413.0            0.0   \n",
      "WODRASKA JOHN                              0.0       0.0            0.0   \n",
      "WROBEL BRUCE                          139130.0       0.0            0.0   \n",
      "YEAGER F SCOTT                      11884758.0   53947.0            0.0   \n",
      "YEAP SOON                             192758.0   55097.0            0.0   \n",
      "\n",
      "                             from_messages      other  \\\n",
      "ALLEN PHILLIP K                     2195.0      152.0   \n",
      "BADUM JAMES P                          0.0        0.0   \n",
      "BANNANTINE JAMES M                    29.0   864523.0   \n",
      "BAXTER JOHN C                          0.0  2660303.0   \n",
      "BAY FRANKLIN R                         0.0       69.0   \n",
      "BAZELIDES PHILIP J                     0.0      874.0   \n",
      "BECK SALLY W                        4343.0      566.0   \n",
      "BELDEN TIMOTHY N                     484.0   210698.0   \n",
      "BELFER ROBERT                          0.0        0.0   \n",
      "BERBERIAN DAVID                        0.0        0.0   \n",
      "BERGSIEKER RICHARD P                  59.0   427316.0   \n",
      "BHATNAGAR SANJAY                      29.0   137864.0   \n",
      "BIBI PHILIPPE A                       40.0   425688.0   \n",
      "BLACHMAN JEREMY M                     14.0      272.0   \n",
      "BLAKE JR. NORMAN P                     0.0        0.0   \n",
      "BOWEN JR RAYMOND M                    27.0     1621.0   \n",
      "BROWN MICHAEL                         41.0        0.0   \n",
      "BUCHANAN HAROLD G                    125.0     1215.0   \n",
      "BUTTS ROBERT H                         0.0   150656.0   \n",
      "BUY RICHARD B                       1053.0   400572.0   \n",
      "CALGER CHRISTOPHER F                 144.0      486.0   \n",
      "CARTER REBECCA C                      15.0      540.0   \n",
      "CAUSEY RICHARD A                      49.0   307895.0   \n",
      "CHAN RONNIE                            0.0        0.0   \n",
      "CHRISTODOULOU DIOMEDES                 0.0        0.0   \n",
      "CLINE KENNETH W                        0.0        0.0   \n",
      "COLWELL WESLEY                        40.0   101740.0   \n",
      "CORDES WILLIAM R                      12.0        0.0   \n",
      "COX DAVID                             33.0      494.0   \n",
      "CUMBERLAND MICHAEL S                   0.0      713.0   \n",
      "...                                    ...        ...   \n",
      "SAVAGE FRANK                           0.0        0.0   \n",
      "SCRIMSHAW MATTHEW                      0.0        0.0   \n",
      "SHANKMAN JEFFREY A                  2681.0     1191.0   \n",
      "SHAPIRO RICHARD S                   1215.0      705.0   \n",
      "SHARP VICTORIA T                     136.0     2401.0   \n",
      "SHELBY REX                            39.0  1573324.0   \n",
      "SHERRICK JEFFREY B                    25.0        0.0   \n",
      "SHERRIFF JOHN R                       92.0  1852186.0   \n",
      "SKILLING JEFFREY K                   108.0    22122.0   \n",
      "STABLER FRANK                          0.0   356071.0   \n",
      "SULLIVAN-SHAKLOVITZ COLLEEN            0.0      162.0   \n",
      "SUNDE MARTIN                          38.0   111122.0   \n",
      "TAYLOR MITCHELL S                     29.0        0.0   \n",
      "THORN TERENCE H                       41.0   426629.0   \n",
      "TILNEY ELIZABETH A                    19.0   152055.0   \n",
      "UMANOFF ADAM S                        18.0        0.0   \n",
      "URQUHART JOHN A                        0.0        0.0   \n",
      "WAKEHAM JOHN                           0.0        0.0   \n",
      "WALLS JR ROBERT H                    146.0        2.0   \n",
      "WALTERS GARETH W                       0.0        0.0   \n",
      "WASAFF GEORGE                         30.0     1425.0   \n",
      "WESTFAHL RICHARD K                     0.0   401130.0   \n",
      "WHALEY DAVID A                         0.0        0.0   \n",
      "WHALLEY LAWRENCE G                   556.0   301026.0   \n",
      "WHITE JR THOMAS E                      0.0  1085463.0   \n",
      "WINOKUR JR. HERBERT S                  0.0        0.0   \n",
      "WODRASKA JOHN                          0.0   189583.0   \n",
      "WROBEL BRUCE                           0.0        0.0   \n",
      "YEAGER F SCOTT                         0.0   147950.0   \n",
      "YEAP SOON                              0.0        0.0   \n",
      "\n",
      "                             from_this_person_to_poi  director_fees  \\\n",
      "ALLEN PHILLIP K                                 65.0            0.0   \n",
      "BADUM JAMES P                                    0.0            0.0   \n",
      "BANNANTINE JAMES M                               0.0            0.0   \n",
      "BAXTER JOHN C                                    0.0            0.0   \n",
      "BAY FRANKLIN R                                   0.0            0.0   \n",
      "BAZELIDES PHILIP J                               0.0            0.0   \n",
      "BECK SALLY W                                   386.0            0.0   \n",
      "BELDEN TIMOTHY N                               108.0            0.0   \n",
      "BELFER ROBERT                                    0.0         3285.0   \n",
      "BERBERIAN DAVID                                  0.0            0.0   \n",
      "BERGSIEKER RICHARD P                             0.0            0.0   \n",
      "BHATNAGAR SANJAY                                 1.0       137864.0   \n",
      "BIBI PHILIPPE A                                  8.0            0.0   \n",
      "BLACHMAN JEREMY M                                2.0            0.0   \n",
      "BLAKE JR. NORMAN P                               0.0       113784.0   \n",
      "BOWEN JR RAYMOND M                              15.0            0.0   \n",
      "BROWN MICHAEL                                    1.0            0.0   \n",
      "BUCHANAN HAROLD G                                0.0            0.0   \n",
      "BUTTS ROBERT H                                   0.0            0.0   \n",
      "BUY RICHARD B                                   71.0            0.0   \n",
      "CALGER CHRISTOPHER F                            25.0            0.0   \n",
      "CARTER REBECCA C                                 7.0            0.0   \n",
      "CAUSEY RICHARD A                                12.0            0.0   \n",
      "CHAN RONNIE                                      0.0        98784.0   \n",
      "CHRISTODOULOU DIOMEDES                           0.0            0.0   \n",
      "CLINE KENNETH W                                  0.0            0.0   \n",
      "COLWELL WESLEY                                  11.0            0.0   \n",
      "CORDES WILLIAM R                                 0.0            0.0   \n",
      "COX DAVID                                        4.0            0.0   \n",
      "CUMBERLAND MICHAEL S                             0.0            0.0   \n",
      "...                                              ...            ...   \n",
      "SAVAGE FRANK                                     0.0       125034.0   \n",
      "SCRIMSHAW MATTHEW                                0.0            0.0   \n",
      "SHANKMAN JEFFREY A                              83.0            0.0   \n",
      "SHAPIRO RICHARD S                               65.0            0.0   \n",
      "SHARP VICTORIA T                                 6.0            0.0   \n",
      "SHELBY REX                                      14.0            0.0   \n",
      "SHERRICK JEFFREY B                              18.0            0.0   \n",
      "SHERRIFF JOHN R                                 23.0            0.0   \n",
      "SKILLING JEFFREY K                              30.0            0.0   \n",
      "STABLER FRANK                                    0.0            0.0   \n",
      "SULLIVAN-SHAKLOVITZ COLLEEN                      0.0            0.0   \n",
      "SUNDE MARTIN                                    13.0            0.0   \n",
      "TAYLOR MITCHELL S                                0.0            0.0   \n",
      "THORN TERENCE H                                  0.0            0.0   \n",
      "TILNEY ELIZABETH A                              11.0            0.0   \n",
      "UMANOFF ADAM S                                   0.0            0.0   \n",
      "URQUHART JOHN A                                  0.0        36666.0   \n",
      "WAKEHAM JOHN                                     0.0       109298.0   \n",
      "WALLS JR ROBERT H                                0.0            0.0   \n",
      "WALTERS GARETH W                                 0.0            0.0   \n",
      "WASAFF GEORGE                                    7.0            0.0   \n",
      "WESTFAHL RICHARD K                               0.0            0.0   \n",
      "WHALEY DAVID A                                   0.0            0.0   \n",
      "WHALLEY LAWRENCE G                              24.0            0.0   \n",
      "WHITE JR THOMAS E                                0.0            0.0   \n",
      "WINOKUR JR. HERBERT S                            0.0       108579.0   \n",
      "WODRASKA JOHN                                    0.0            0.0   \n",
      "WROBEL BRUCE                                     0.0            0.0   \n",
      "YEAGER F SCOTT                                   0.0            0.0   \n",
      "YEAP SOON                                        0.0            0.0   \n",
      "\n",
      "                             long_term_incentive  from_poi_to_this_person  \n",
      "ALLEN PHILLIP K                         304805.0                     47.0  \n",
      "BADUM JAMES P                                0.0                      0.0  \n",
      "BANNANTINE JAMES M                           0.0                     39.0  \n",
      "BAXTER JOHN C                          1586055.0                      0.0  \n",
      "BAY FRANKLIN R                               0.0                      0.0  \n",
      "BAZELIDES PHILIP J                       93750.0                      0.0  \n",
      "BECK SALLY W                                 0.0                    144.0  \n",
      "BELDEN TIMOTHY N                             0.0                    228.0  \n",
      "BELFER ROBERT                                0.0                      0.0  \n",
      "BERBERIAN DAVID                              0.0                      0.0  \n",
      "BERGSIEKER RICHARD P                    180250.0                      4.0  \n",
      "BHATNAGAR SANJAY                             0.0                      0.0  \n",
      "BIBI PHILIPPE A                         369721.0                     23.0  \n",
      "BLACHMAN JEREMY M                       831809.0                     25.0  \n",
      "BLAKE JR. NORMAN P                           0.0                      0.0  \n",
      "BOWEN JR RAYMOND M                      974293.0                    140.0  \n",
      "BROWN MICHAEL                                0.0                     13.0  \n",
      "BUCHANAN HAROLD G                       304805.0                      0.0  \n",
      "BUTTS ROBERT H                          175000.0                      0.0  \n",
      "BUY RICHARD B                           769862.0                    156.0  \n",
      "CALGER CHRISTOPHER F                    375304.0                    199.0  \n",
      "CARTER REBECCA C                         75000.0                     29.0  \n",
      "CAUSEY RICHARD A                        350000.0                     58.0  \n",
      "CHAN RONNIE                                  0.0                      0.0  \n",
      "CHRISTODOULOU DIOMEDES                       0.0                      0.0  \n",
      "CLINE KENNETH W                              0.0                      0.0  \n",
      "COLWELL WESLEY                               0.0                    240.0  \n",
      "CORDES WILLIAM R                             0.0                     10.0  \n",
      "COX DAVID                                    0.0                      0.0  \n",
      "CUMBERLAND MICHAEL S                    275000.0                      0.0  \n",
      "...                                          ...                      ...  \n",
      "SAVAGE FRANK                                 0.0                      0.0  \n",
      "SCRIMSHAW MATTHEW                            0.0                      0.0  \n",
      "SHANKMAN JEFFREY A                      554422.0                     94.0  \n",
      "SHAPIRO RICHARD S                            0.0                     74.0  \n",
      "SHARP VICTORIA T                        422158.0                     24.0  \n",
      "SHELBY REX                                   0.0                     13.0  \n",
      "SHERRICK JEFFREY B                           0.0                     39.0  \n",
      "SHERRIFF JOHN R                         554422.0                     28.0  \n",
      "SKILLING JEFFREY K                     1920000.0                     88.0  \n",
      "STABLER FRANK                                0.0                      0.0  \n",
      "SULLIVAN-SHAKLOVITZ COLLEEN             554422.0                      0.0  \n",
      "SUNDE MARTIN                            476451.0                     37.0  \n",
      "TAYLOR MITCHELL S                            0.0                      0.0  \n",
      "THORN TERENCE H                         200000.0                      0.0  \n",
      "TILNEY ELIZABETH A                      275000.0                     10.0  \n",
      "UMANOFF ADAM S                               0.0                     12.0  \n",
      "URQUHART JOHN A                              0.0                      0.0  \n",
      "WAKEHAM JOHN                                 0.0                      0.0  \n",
      "WALLS JR ROBERT H                       540751.0                     17.0  \n",
      "WALTERS GARETH W                             0.0                      0.0  \n",
      "WASAFF GEORGE                           200000.0                     22.0  \n",
      "WESTFAHL RICHARD K                      256191.0                      0.0  \n",
      "WHALEY DAVID A                               0.0                      0.0  \n",
      "WHALLEY LAWRENCE G                      808346.0                    186.0  \n",
      "WHITE JR THOMAS E                            0.0                      0.0  \n",
      "WINOKUR JR. HERBERT S                        0.0                      0.0  \n",
      "WODRASKA JOHN                                0.0                      0.0  \n",
      "WROBEL BRUCE                                 0.0                      0.0  \n",
      "YEAGER F SCOTT                               0.0                      0.0  \n",
      "YEAP SOON                                    0.0                      0.0  \n",
      "\n",
      "[144 rows x 16 columns]\n"
     ]
    }
   ],
   "source": [
    "x1 = enron_DF.drop(['poi','email_address','restricted_stock_deferred','deferred_income','deferral_payments'], axis=1)\n",
    "print x1\n",
    "y1=enron_DF['poi']"
   ]
  },
  {
   "cell_type": "code",
   "execution_count": 28,
   "metadata": {
    "collapsed": false
   },
   "outputs": [
    {
     "name": "stdout",
     "output_type": "stream",
     "text": [
      "[ 18.576   1.699   0.217   8.874  25.098  21.06    9.347   8.746   0.065\n",
      "  24.468   6.234   7.243   0.164   4.246   2.427   2.108  11.596  10.072\n",
      "   5.345]\n",
      "[ 4.518  0.711  0.192  2.468  5.797  5.013  2.573  2.44   0.097  5.677\n",
      "  1.864  2.098  0.164  1.385  0.915  0.827  3.066  2.734  1.653]\n",
      "[[  2.020e+05   1.730e+06   4.175e+06   1.730e+06  -3.081e+06]\n",
      " [  0.000e+00   2.578e+05   0.000e+00   2.578e+05   0.000e+00]\n",
      " [  4.770e+02   4.046e+06   0.000e+00   5.243e+06  -5.104e+03]\n",
      " [  2.671e+05   6.681e+06   1.200e+06   1.062e+07  -1.386e+06]\n",
      " [  2.397e+05   0.000e+00   4.000e+05   6.301e+04  -2.016e+05]]\n",
      "(144L, 5L)\n",
      "[ 0  4  5  9 16]\n"
     ]
    },
    {
     "data": {
      "text/plain": [
       "['salary',\n",
       " 'exercised_stock_options',\n",
       " 'bonus',\n",
       " 'total_stock_value',\n",
       " 'deferred_income']"
      ]
     },
     "execution_count": 28,
     "metadata": {},
     "output_type": "execute_result"
    }
   ],
   "source": [
    "\n",
    "\n",
    "# Feature Extraction with Univariate Statistical Tests (Chi-squared for classification)\n",
    "import pandas\n",
    "import numpy\n",
    "from sklearn.feature_selection import SelectKBest\n",
    "from sklearn.feature_selection import chi2\n",
    "\n",
    "\n",
    "x1 = enron_DF.drop(['email_address','poi'], axis=1)\n",
    "#print x1\n",
    "y1=enron_DF['poi']\n",
    "\n",
    "# feature extraction\n",
    "test = SelectKBest(score_func=f_classif, k=5)\n",
    "fit = test.fit(x1, y1)\n",
    "# summarize scores\n",
    "numpy.set_printoptions(precision=3)\n",
    "print(fit.scores_)\n",
    "scores1 = -np.log10(test.pvalues_)\n",
    "print scores1\n",
    "\n",
    "features = fit.transform(x1)\n",
    "# summarize selected features\n",
    "print(features[0:5,:])\n",
    "\n",
    "print features.shape\n",
    "print(test.get_support(indices=True))\n",
    "\n",
    "#2nd way\n",
    "x1.columns[test.get_support(indices=True)].tolist()"
   ]
  },
  {
   "cell_type": "code",
   "execution_count": 86,
   "metadata": {
    "collapsed": false
   },
   "outputs": [],
   "source": [
    "import numpy as np\n",
    "import pandas as pd\n",
    "from sklearn.cross_validation import train_test_split\n",
    "from sklearn.tree import DecisionTreeClassifier\n",
    "from sklearn.metrics import accuracy_score\n",
    "from sklearn import tree\n",
    "from sklearn import preprocessing, cross_validation, svm\n",
    "from sklearn.metrics import classification_report\n",
    "\n",
    "X = enron_DF.iloc[:, [0,4,5,9,16]]\n",
    "X = preprocessing.scale(X)\n",
    "\n",
    "Y = enron_DF.iloc[:,15]\n",
    "#enron_DF.columns.get_loc(\"poi\")\n"
   ]
  },
  {
   "cell_type": "code",
   "execution_count": 87,
   "metadata": {
    "collapsed": false
   },
   "outputs": [],
   "source": [
    "X_train, X_test, y_train, y_test = train_test_split( X, Y, test_size = 0.2, random_state = 100)"
   ]
  },
  {
   "cell_type": "code",
   "execution_count": 88,
   "metadata": {
    "collapsed": false
   },
   "outputs": [
    {
     "data": {
      "text/plain": [
       "DecisionTreeClassifier(class_weight=None, criterion='gini', max_depth=3,\n",
       "            max_features=None, max_leaf_nodes=None,\n",
       "            min_impurity_split=1e-07, min_samples_leaf=5,\n",
       "            min_samples_split=2, min_weight_fraction_leaf=0.0,\n",
       "            presort=False, random_state=100, splitter='best')"
      ]
     },
     "execution_count": 88,
     "metadata": {},
     "output_type": "execute_result"
    }
   ],
   "source": [
    "clf_gini = DecisionTreeClassifier(criterion = \"gini\", random_state = 100,\n",
    "                               max_depth=3, min_samples_leaf=5)\n",
    "clf_gini.fit(X_train, y_train)"
   ]
  },
  {
   "cell_type": "code",
   "execution_count": 89,
   "metadata": {
    "collapsed": false
   },
   "outputs": [
    {
     "data": {
      "text/plain": [
       "DecisionTreeClassifier(class_weight=None, criterion='gini', max_depth=None,\n",
       "            max_features=None, max_leaf_nodes=None,\n",
       "            min_impurity_split=1e-07, min_samples_leaf=1,\n",
       "            min_samples_split=2, min_weight_fraction_leaf=0.0,\n",
       "            presort=False, random_state=None, splitter='best')"
      ]
     },
     "execution_count": 89,
     "metadata": {},
     "output_type": "execute_result"
    }
   ],
   "source": [
    "#clf_entropy = DecisionTreeClassifier(criterion = \"entropy\", random_state = 100,\n",
    "# max_depth=3, min_samples_leaf=5)\n",
    "\n",
    "clf_entropy = DecisionTreeClassifier()\n",
    "clf_entropy.fit(X_train, y_train)"
   ]
  },
  {
   "cell_type": "code",
   "execution_count": 90,
   "metadata": {
    "collapsed": false
   },
   "outputs": [
    {
     "data": {
      "text/plain": [
       "array([False, False, False, False, False, False, False, False,  True,\n",
       "       False,  True, False, False, False, False, False, False, False,\n",
       "       False, False, False, False, False, False, False, False, False,\n",
       "        True, False], dtype=bool)"
      ]
     },
     "execution_count": 90,
     "metadata": {},
     "output_type": "execute_result"
    }
   ],
   "source": [
    "y_pred = clf_gini.predict(X_test)\n",
    "y_pred"
   ]
  },
  {
   "cell_type": "code",
   "execution_count": 91,
   "metadata": {
    "collapsed": false
   },
   "outputs": [
    {
     "data": {
      "text/plain": [
       "array([False, False, False,  True,  True, False, False, False,  True,\n",
       "       False,  True, False, False, False, False, False, False,  True,\n",
       "       False, False, False, False, False, False, False, False, False,\n",
       "       False, False], dtype=bool)"
      ]
     },
     "execution_count": 91,
     "metadata": {},
     "output_type": "execute_result"
    }
   ],
   "source": [
    "y_pred_en = clf_entropy.predict(X_test)\n",
    "y_pred_en"
   ]
  },
  {
   "cell_type": "code",
   "execution_count": 92,
   "metadata": {
    "collapsed": false
   },
   "outputs": [
    {
     "name": "stdout",
     "output_type": "stream",
     "text": [
      "(115L, 5L)\n",
      "(29L, 5L)\n",
      "(115L,)\n",
      "(29L,)\n"
     ]
    }
   ],
   "source": [
    "print X_train.shape\n",
    "print X_test.shape\n",
    "print y_train.shape\n",
    "print y_test.shape"
   ]
  },
  {
   "cell_type": "code",
   "execution_count": 93,
   "metadata": {
    "collapsed": false
   },
   "outputs": [
    {
     "name": "stdout",
     "output_type": "stream",
     "text": [
      "Accuracy is  89.6551724138\n"
     ]
    }
   ],
   "source": [
    "print \"Accuracy is \", accuracy_score(y_test,y_pred)*100"
   ]
  },
  {
   "cell_type": "code",
   "execution_count": 94,
   "metadata": {
    "collapsed": false
   },
   "outputs": [
    {
     "name": "stdout",
     "output_type": "stream",
     "text": [
      "('Report : ', '             precision    recall  f1-score   support\\n\\n      False       0.92      0.96      0.94        25\\n       True       0.67      0.50      0.57         4\\n\\navg / total       0.89      0.90      0.89        29\\n')\n"
     ]
    }
   ],
   "source": [
    " print(\"Report : \",\n",
    "    classification_report(y_test,y_pred))"
   ]
  },
  {
   "cell_type": "code",
   "execution_count": 95,
   "metadata": {
    "collapsed": false
   },
   "outputs": [
    {
     "data": {
      "text/plain": [
       "(0.8877099911582671, 0.89655172413793105, 0.89017676035931603, None)"
      ]
     },
     "execution_count": 95,
     "metadata": {},
     "output_type": "execute_result"
    }
   ],
   "source": [
    "from sklearn.metrics import precision_recall_fscore_support\n",
    "precision_recall_fscore_support(y_test, y_pred, average='weighted')"
   ]
  },
  {
   "cell_type": "code",
   "execution_count": 98,
   "metadata": {
    "collapsed": false
   },
   "outputs": [
    {
     "name": "stdout",
     "output_type": "stream",
     "text": [
      "Accuracy is  75.8620689655\n"
     ]
    }
   ],
   "source": [
    "print \"Accuracy is \", accuracy_score(y_test,y_pred_en)*100"
   ]
  },
  {
   "cell_type": "code",
   "execution_count": 99,
   "metadata": {
    "collapsed": false
   },
   "outputs": [
    {
     "name": "stdout",
     "output_type": "stream",
     "text": [
      "('Report : ', '             precision    recall  f1-score   support\\n\\n      False       0.88      0.84      0.86        25\\n       True       0.20      0.25      0.22         4\\n\\navg / total       0.78      0.76      0.77        29\\n')\n"
     ]
    }
   ],
   "source": [
    " print(\"Report : \",\n",
    "    classification_report(y_test,y_pred_en))"
   ]
  },
  {
   "cell_type": "code",
   "execution_count": 100,
   "metadata": {
    "collapsed": false
   },
   "outputs": [
    {
     "data": {
      "text/plain": [
       "(0.78189655172413797, 0.75862068965517238, 0.76956759715380418, None)"
      ]
     },
     "execution_count": 100,
     "metadata": {},
     "output_type": "execute_result"
    }
   ],
   "source": [
    "from sklearn.metrics import precision_recall_fscore_support\n",
    "precision_recall_fscore_support(y_test, y_pred_en, average='weighted')"
   ]
  },
  {
   "cell_type": "code",
   "execution_count": null,
   "metadata": {
    "collapsed": true
   },
   "outputs": [],
   "source": []
  },
  {
   "cell_type": "code",
   "execution_count": 101,
   "metadata": {
    "collapsed": false
   },
   "outputs": [
    {
     "name": "stdout",
     "output_type": "stream",
     "text": [
      "Accuracy of SVM is  89.6551724138\n"
     ]
    }
   ],
   "source": [
    "# importing necessary libraries\n",
    "from sklearn.metrics import confusion_matrix\n",
    "   \n",
    "# training a linear SVM classifier\n",
    "from sklearn.svm import SVC # \"Support Vector Classifier\"\n",
    "clf_svm_linear = SVC(kernel = 'linear', C = 1)\n",
    "clf_svm_linear.fit(X_train, y_train)\n",
    "svm_predictions = clf_svm_linear.predict(X_test)\n",
    " \n",
    "# model accuracy for X_test  \n",
    "#accuracy_svm = clf_svm_linear.score(y_test, svm_predictions)\n",
    "#print accuracy_svm\n",
    "print \"Accuracy of SVM is \", accuracy_score(y_test,svm_predictions)*100"
   ]
  },
  {
   "cell_type": "code",
   "execution_count": 102,
   "metadata": {
    "collapsed": false
   },
   "outputs": [
    {
     "data": {
      "text/plain": [
       "(0.9076354679802956, 0.89655172413793105, 0.86844502277163327, None)"
      ]
     },
     "execution_count": 102,
     "metadata": {},
     "output_type": "execute_result"
    }
   ],
   "source": [
    "from sklearn.metrics import precision_recall_fscore_support\n",
    "precision_recall_fscore_support(y_test, svm_predictions, average='weighted')"
   ]
  },
  {
   "cell_type": "code",
   "execution_count": 103,
   "metadata": {
    "collapsed": false
   },
   "outputs": [
    {
     "name": "stdout",
     "output_type": "stream",
     "text": [
      "('Report : ', '             precision    recall  f1-score   support\\n\\n      False       0.89      1.00      0.94        25\\n       True       1.00      0.25      0.40         4\\n\\navg / total       0.91      0.90      0.87        29\\n')\n"
     ]
    }
   ],
   "source": [
    " print(\"Report : \",\n",
    "    classification_report(y_test,svm_predictions))"
   ]
  },
  {
   "cell_type": "code",
   "execution_count": 104,
   "metadata": {
    "collapsed": false
   },
   "outputs": [
    {
     "name": "stdout",
     "output_type": "stream",
     "text": [
      "Accuracy of Naive Bayes is  27.5862068966\n"
     ]
    }
   ],
   "source": [
    "# training a Naive Bayes classifier\n",
    "from sklearn.naive_bayes import GaussianNB\n",
    "gnb = GaussianNB()\n",
    "gnb.fit(X_train, y_train)\n",
    "gnb_predictions = gnb.predict(X_test)\n",
    " \n",
    "#print gnb_predictions   \n",
    "#print y_test\n",
    "# accuracy\n",
    "#accuracy = gnb.score(y_test, gnb_predictions)\n",
    "#print accuracy\n",
    " \n",
    "print \"Accuracy of Naive Bayes is \", accuracy_score(y_test,gnb_predictions)*100    \n"
   ]
  },
  {
   "cell_type": "code",
   "execution_count": 105,
   "metadata": {
    "collapsed": false
   },
   "outputs": [
    {
     "name": "stdout",
     "output_type": "stream",
     "text": [
      "('Report : ', '             precision    recall  f1-score   support\\n\\n      False       1.00      0.16      0.28        25\\n       True       0.16      1.00      0.28         4\\n\\navg / total       0.88      0.28      0.28        29\\n')\n"
     ]
    }
   ],
   "source": [
    " print(\"Report : \",\n",
    "    classification_report(y_test,gnb_predictions))"
   ]
  },
  {
   "cell_type": "code",
   "execution_count": 106,
   "metadata": {
    "collapsed": false
   },
   "outputs": [
    {
     "name": "stdout",
     "output_type": "stream",
     "text": [
      "[False False False False False False False False False False  True False\n",
      " False False False False False False False False False False False False\n",
      " False False False  True False]\n",
      "Accuracy of RandomForestRegressor is  93.1034482759\n"
     ]
    }
   ],
   "source": [
    "from sklearn.ensemble import RandomForestClassifier\n",
    "\n",
    "#rfc = RandomForestClassifier(max_depth=2, random_state=0)\n",
    "rfc = RandomForestClassifier(n_estimators=10)\n",
    "rfc.fit(X_train, y_train)\n",
    "\n",
    "# Use the forest's predict method on the test data\n",
    "rfc_predictions = rfc.predict(X_test)\n",
    "print rfc_predictions\n",
    "\n",
    "print \"Accuracy of RandomForestRegressor is \", accuracy_score(y_test,rfc_predictions)*100    "
   ]
  },
  {
   "cell_type": "code",
   "execution_count": 107,
   "metadata": {
    "collapsed": false
   },
   "outputs": [
    {
     "name": "stdout",
     "output_type": "stream",
     "text": [
      "('Report : ', '             precision    recall  f1-score   support\\n\\n      False       0.93      1.00      0.96        25\\n       True       1.00      0.50      0.67         4\\n\\navg / total       0.94      0.93      0.92        29\\n')\n"
     ]
    }
   ],
   "source": [
    " print(\"Report : \",\n",
    "    classification_report(y_test,rfc_predictions))"
   ]
  },
  {
   "cell_type": "code",
   "execution_count": 110,
   "metadata": {
    "collapsed": false
   },
   "outputs": [
    {
     "name": "stdout",
     "output_type": "stream",
     "text": [
      "0.862068965517\n"
     ]
    }
   ],
   "source": [
    "# training a KNN classifier\n",
    "from sklearn.neighbors import KNeighborsClassifier\n",
    "knn = KNeighborsClassifier(n_neighbors = 7).fit(X_train, y_train)\n",
    " \n",
    "# accuracy on X_test\n",
    "accuracy = knn.score(X_test, y_test)\n",
    "print accuracy\n",
    " \n",
    "# creating a confusion matrix\n",
    "knn_predictions = knn.predict(X_test) \n",
    "cm = confusion_matrix(y_test, knn_predictions)"
   ]
  },
  {
   "cell_type": "code",
   "execution_count": 111,
   "metadata": {
    "collapsed": false
   },
   "outputs": [
    {
     "name": "stdout",
     "output_type": "stream",
     "text": [
      "('Report : ', '             precision    recall  f1-score   support\\n\\n      False       0.86      1.00      0.93        25\\n       True       0.00      0.00      0.00         4\\n\\navg / total       0.74      0.86      0.80        29\\n')\n"
     ]
    }
   ],
   "source": [
    " print(\"Report : \",\n",
    "    classification_report(y_test,knn_predictions))"
   ]
  },
  {
   "cell_type": "markdown",
   "metadata": {},
   "source": [
    "This is giving very bad f1 score for true cases "
   ]
  },
  {
   "cell_type": "code",
   "execution_count": 167,
   "metadata": {
    "collapsed": false
   },
   "outputs": [
    {
     "name": "stdout",
     "output_type": "stream",
     "text": [
      "[False False False False False False False False False False  True False\n",
      " False False False  True False False False False False False False False\n",
      " False False False False False]\n",
      "Accuracy of BaggingClassifier is  93.1034482759\n"
     ]
    }
   ],
   "source": [
    "\n",
    "#Bagging #Bagging \n",
    "from sklearn. ensemble import RandomForestClassifier, BaggingClassifier, AdaBoostClassifier, VotingClassifier\n",
    "bg = BaggingClassifier(DecisionTreeClassifier(), max_samples= 0.5, max_features = 1.0, n_estimators = 10)\n",
    "bg.fit(X_train,y_train)\n",
    "\n",
    "# Use the Bagging's predict method on the test data\n",
    "bg_predictions = bg.predict(X_test)\n",
    "print bg_predictions\n",
    "\n",
    "print \"Accuracy of BaggingClassifier is \", accuracy_score(y_test,bg_predictions)*100    "
   ]
  },
  {
   "cell_type": "code",
   "execution_count": 178,
   "metadata": {
    "collapsed": false
   },
   "outputs": [
    {
     "name": "stdout",
     "output_type": "stream",
     "text": [
      "[False False False  True  True False False False  True False  True False\n",
      " False False False False False  True False False False False False False\n",
      " False False False  True False]\n",
      "Accuracy of AdaBoostClassifier is  79.3103448276\n"
     ]
    }
   ],
   "source": [
    "#Boosting - Ada Boost\n",
    "\n",
    "adb = AdaBoostClassifier(DecisionTreeClassifier(),n_estimators = 10, learning_rate = 1)\n",
    "adb.fit(X_train,y_train)\n",
    "\n",
    "# Use the Bagging's predict method on the test data\n",
    "adb_predictions = adb.predict(X_test)\n",
    "print adb_predictions\n",
    "\n",
    "print \"Accuracy of AdaBoostClassifier is \", accuracy_score(y_test,adb_predictions)*100    "
   ]
  },
  {
   "cell_type": "code",
   "execution_count": 179,
   "metadata": {
    "collapsed": true
   },
   "outputs": [],
   "source": [
    "# Voting Classifier - Multiple Model Ensemble \n",
    "from sklearn.linear_model import LogisticRegression\n",
    "lr = LogisticRegression()\n",
    "dt = DecisionTreeClassifier()\n",
    "svm = SVC(kernel = 'poly', degree = 2 )"
   ]
  },
  {
   "cell_type": "code",
   "execution_count": 180,
   "metadata": {
    "collapsed": true
   },
   "outputs": [],
   "source": [
    "evc = VotingClassifier( estimators= [('lr',lr),('dt',dt),('svm',svm)], voting = 'hard')"
   ]
  },
  {
   "cell_type": "code",
   "execution_count": 181,
   "metadata": {
    "collapsed": false
   },
   "outputs": [
    {
     "data": {
      "text/plain": [
       "VotingClassifier(estimators=[('lr', LogisticRegression(C=1.0, class_weight=None, dual=False, fit_intercept=True,\n",
       "          intercept_scaling=1, max_iter=100, multi_class='ovr', n_jobs=1,\n",
       "          penalty='l2', random_state=None, solver='liblinear', tol=0.0001,\n",
       "          verbose=0, warm_start=False)), ('dt', Decisio...,\n",
       "  max_iter=-1, probability=False, random_state=None, shrinking=True,\n",
       "  tol=0.001, verbose=False))],\n",
       "         n_jobs=1, voting='hard', weights=None)"
      ]
     },
     "execution_count": 181,
     "metadata": {},
     "output_type": "execute_result"
    }
   ],
   "source": [
    "evc.fit(X_train,y_train)"
   ]
  },
  {
   "cell_type": "code",
   "execution_count": 187,
   "metadata": {
    "collapsed": false
   },
   "outputs": [
    {
     "name": "stdout",
     "output_type": "stream",
     "text": [
      "\n"
     ]
    }
   ],
   "source": [
    "#evc.score(X_test, y_test)\n",
    "evc_predictions = evc.predict(X_test)"
   ]
  },
  {
   "cell_type": "code",
   "execution_count": 189,
   "metadata": {
    "collapsed": false
   },
   "outputs": [
    {
     "name": "stdout",
     "output_type": "stream",
     "text": [
      "Accuracy of VotingClassifier is  86.2068965517\n"
     ]
    }
   ],
   "source": [
    "print \"Accuracy of VotingClassifier is \", accuracy_score(y_test,evc_predictions)*100  "
   ]
  },
  {
   "cell_type": "code",
   "execution_count": 112,
   "metadata": {
    "collapsed": true
   },
   "outputs": [],
   "source": [
    "from sklearn.datasets import load_iris\n",
    "from sklearn.neighbors import KNeighborsClassifier\n",
    "from sklearn.model_selection import cross_val_score\n",
    "import matplotlib.pyplot as plt\n",
    "%matplotlib inline"
   ]
  },
  {
   "cell_type": "code",
   "execution_count": 113,
   "metadata": {
    "collapsed": true
   },
   "outputs": [],
   "source": [
    "from sklearn.model_selection import GridSearchCV"
   ]
  },
  {
   "cell_type": "code",
   "execution_count": 114,
   "metadata": {
    "collapsed": false
   },
   "outputs": [
    {
     "name": "stdout",
     "output_type": "stream",
     "text": [
      "[1, 2, 3, 4, 5, 6, 7, 8, 9, 10, 11, 12, 13, 14, 15, 16, 17, 18, 19, 20, 21, 22, 23, 24, 25, 26, 27, 28, 29, 30]\n"
     ]
    }
   ],
   "source": [
    "# define the parameter values that should be searched\n",
    "k_range = list(range(1, 31))\n",
    "print(k_range)"
   ]
  },
  {
   "cell_type": "code",
   "execution_count": 115,
   "metadata": {
    "collapsed": true
   },
   "outputs": [],
   "source": [
    "knn = KNeighborsClassifier(n_neighbors=5)"
   ]
  },
  {
   "cell_type": "code",
   "execution_count": 116,
   "metadata": {
    "collapsed": false
   },
   "outputs": [],
   "source": [
    "# instantiate the grid# instan \n",
    "grid = GridSearchCV(knn, param_grid, cv=10, scoring='accuracy', return_train_score=False)"
   ]
  },
  {
   "cell_type": "code",
   "execution_count": 117,
   "metadata": {
    "collapsed": false
   },
   "outputs": [
    {
     "data": {
      "text/plain": [
       "GridSearchCV(cv=10, error_score='raise',\n",
       "       estimator=KNeighborsClassifier(algorithm='auto', leaf_size=30, metric='minkowski',\n",
       "           metric_params=None, n_jobs=1, n_neighbors=5, p=2,\n",
       "           weights='uniform'),\n",
       "       fit_params={}, iid=True, n_jobs=1,\n",
       "       param_grid={'n_neighbors': [1, 2, 3, 4, 5, 6, 7, 8, 9, 10, 11, 12, 13, 14, 15, 16, 17, 18, 19, 20, 21, 22, 23, 24, 25, 26, 27, 28, 29, 30]},\n",
       "       pre_dispatch='2*n_jobs', refit=True, return_train_score=False,\n",
       "       scoring='accuracy', verbose=0)"
      ]
     },
     "execution_count": 117,
     "metadata": {},
     "output_type": "execute_result"
    }
   ],
   "source": [
    "# fit the grid with data\n",
    "grid.fit(X_train,y_train)"
   ]
  },
  {
   "cell_type": "code",
   "execution_count": 118,
   "metadata": {
    "collapsed": false
   },
   "outputs": [
    {
     "data": {
      "text/html": [
       "<div>\n",
       "<table border=\"1\" class=\"dataframe\">\n",
       "  <thead>\n",
       "    <tr style=\"text-align: right;\">\n",
       "      <th></th>\n",
       "      <th>mean_test_score</th>\n",
       "      <th>std_test_score</th>\n",
       "      <th>params</th>\n",
       "    </tr>\n",
       "  </thead>\n",
       "  <tbody>\n",
       "    <tr>\n",
       "      <th>0</th>\n",
       "      <td>0.782609</td>\n",
       "      <td>0.108050</td>\n",
       "      <td>{u'n_neighbors': 1}</td>\n",
       "    </tr>\n",
       "    <tr>\n",
       "      <th>1</th>\n",
       "      <td>0.869565</td>\n",
       "      <td>0.065615</td>\n",
       "      <td>{u'n_neighbors': 2}</td>\n",
       "    </tr>\n",
       "    <tr>\n",
       "      <th>2</th>\n",
       "      <td>0.843478</td>\n",
       "      <td>0.082260</td>\n",
       "      <td>{u'n_neighbors': 3}</td>\n",
       "    </tr>\n",
       "    <tr>\n",
       "      <th>3</th>\n",
       "      <td>0.869565</td>\n",
       "      <td>0.038375</td>\n",
       "      <td>{u'n_neighbors': 4}</td>\n",
       "    </tr>\n",
       "    <tr>\n",
       "      <th>4</th>\n",
       "      <td>0.869565</td>\n",
       "      <td>0.038375</td>\n",
       "      <td>{u'n_neighbors': 5}</td>\n",
       "    </tr>\n",
       "    <tr>\n",
       "      <th>5</th>\n",
       "      <td>0.878261</td>\n",
       "      <td>0.035971</td>\n",
       "      <td>{u'n_neighbors': 6}</td>\n",
       "    </tr>\n",
       "    <tr>\n",
       "      <th>6</th>\n",
       "      <td>0.878261</td>\n",
       "      <td>0.035971</td>\n",
       "      <td>{u'n_neighbors': 7}</td>\n",
       "    </tr>\n",
       "    <tr>\n",
       "      <th>7</th>\n",
       "      <td>0.878261</td>\n",
       "      <td>0.035971</td>\n",
       "      <td>{u'n_neighbors': 8}</td>\n",
       "    </tr>\n",
       "    <tr>\n",
       "      <th>8</th>\n",
       "      <td>0.878261</td>\n",
       "      <td>0.035971</td>\n",
       "      <td>{u'n_neighbors': 9}</td>\n",
       "    </tr>\n",
       "    <tr>\n",
       "      <th>9</th>\n",
       "      <td>0.878261</td>\n",
       "      <td>0.035971</td>\n",
       "      <td>{u'n_neighbors': 10}</td>\n",
       "    </tr>\n",
       "    <tr>\n",
       "      <th>10</th>\n",
       "      <td>0.878261</td>\n",
       "      <td>0.035971</td>\n",
       "      <td>{u'n_neighbors': 11}</td>\n",
       "    </tr>\n",
       "    <tr>\n",
       "      <th>11</th>\n",
       "      <td>0.878261</td>\n",
       "      <td>0.035971</td>\n",
       "      <td>{u'n_neighbors': 12}</td>\n",
       "    </tr>\n",
       "    <tr>\n",
       "      <th>12</th>\n",
       "      <td>0.878261</td>\n",
       "      <td>0.035971</td>\n",
       "      <td>{u'n_neighbors': 13}</td>\n",
       "    </tr>\n",
       "    <tr>\n",
       "      <th>13</th>\n",
       "      <td>0.878261</td>\n",
       "      <td>0.035971</td>\n",
       "      <td>{u'n_neighbors': 14}</td>\n",
       "    </tr>\n",
       "    <tr>\n",
       "      <th>14</th>\n",
       "      <td>0.878261</td>\n",
       "      <td>0.035971</td>\n",
       "      <td>{u'n_neighbors': 15}</td>\n",
       "    </tr>\n",
       "    <tr>\n",
       "      <th>15</th>\n",
       "      <td>0.878261</td>\n",
       "      <td>0.035971</td>\n",
       "      <td>{u'n_neighbors': 16}</td>\n",
       "    </tr>\n",
       "    <tr>\n",
       "      <th>16</th>\n",
       "      <td>0.878261</td>\n",
       "      <td>0.035971</td>\n",
       "      <td>{u'n_neighbors': 17}</td>\n",
       "    </tr>\n",
       "    <tr>\n",
       "      <th>17</th>\n",
       "      <td>0.878261</td>\n",
       "      <td>0.035971</td>\n",
       "      <td>{u'n_neighbors': 18}</td>\n",
       "    </tr>\n",
       "    <tr>\n",
       "      <th>18</th>\n",
       "      <td>0.878261</td>\n",
       "      <td>0.035971</td>\n",
       "      <td>{u'n_neighbors': 19}</td>\n",
       "    </tr>\n",
       "    <tr>\n",
       "      <th>19</th>\n",
       "      <td>0.878261</td>\n",
       "      <td>0.035971</td>\n",
       "      <td>{u'n_neighbors': 20}</td>\n",
       "    </tr>\n",
       "    <tr>\n",
       "      <th>20</th>\n",
       "      <td>0.878261</td>\n",
       "      <td>0.035971</td>\n",
       "      <td>{u'n_neighbors': 21}</td>\n",
       "    </tr>\n",
       "    <tr>\n",
       "      <th>21</th>\n",
       "      <td>0.878261</td>\n",
       "      <td>0.035971</td>\n",
       "      <td>{u'n_neighbors': 22}</td>\n",
       "    </tr>\n",
       "    <tr>\n",
       "      <th>22</th>\n",
       "      <td>0.878261</td>\n",
       "      <td>0.035971</td>\n",
       "      <td>{u'n_neighbors': 23}</td>\n",
       "    </tr>\n",
       "    <tr>\n",
       "      <th>23</th>\n",
       "      <td>0.878261</td>\n",
       "      <td>0.035971</td>\n",
       "      <td>{u'n_neighbors': 24}</td>\n",
       "    </tr>\n",
       "    <tr>\n",
       "      <th>24</th>\n",
       "      <td>0.878261</td>\n",
       "      <td>0.035971</td>\n",
       "      <td>{u'n_neighbors': 25}</td>\n",
       "    </tr>\n",
       "    <tr>\n",
       "      <th>25</th>\n",
       "      <td>0.878261</td>\n",
       "      <td>0.035971</td>\n",
       "      <td>{u'n_neighbors': 26}</td>\n",
       "    </tr>\n",
       "    <tr>\n",
       "      <th>26</th>\n",
       "      <td>0.878261</td>\n",
       "      <td>0.035971</td>\n",
       "      <td>{u'n_neighbors': 27}</td>\n",
       "    </tr>\n",
       "    <tr>\n",
       "      <th>27</th>\n",
       "      <td>0.878261</td>\n",
       "      <td>0.035971</td>\n",
       "      <td>{u'n_neighbors': 28}</td>\n",
       "    </tr>\n",
       "    <tr>\n",
       "      <th>28</th>\n",
       "      <td>0.878261</td>\n",
       "      <td>0.035971</td>\n",
       "      <td>{u'n_neighbors': 29}</td>\n",
       "    </tr>\n",
       "    <tr>\n",
       "      <th>29</th>\n",
       "      <td>0.878261</td>\n",
       "      <td>0.035971</td>\n",
       "      <td>{u'n_neighbors': 30}</td>\n",
       "    </tr>\n",
       "  </tbody>\n",
       "</table>\n",
       "</div>"
      ],
      "text/plain": [
       "    mean_test_score  std_test_score                params\n",
       "0          0.782609        0.108050   {u'n_neighbors': 1}\n",
       "1          0.869565        0.065615   {u'n_neighbors': 2}\n",
       "2          0.843478        0.082260   {u'n_neighbors': 3}\n",
       "3          0.869565        0.038375   {u'n_neighbors': 4}\n",
       "4          0.869565        0.038375   {u'n_neighbors': 5}\n",
       "5          0.878261        0.035971   {u'n_neighbors': 6}\n",
       "6          0.878261        0.035971   {u'n_neighbors': 7}\n",
       "7          0.878261        0.035971   {u'n_neighbors': 8}\n",
       "8          0.878261        0.035971   {u'n_neighbors': 9}\n",
       "9          0.878261        0.035971  {u'n_neighbors': 10}\n",
       "10         0.878261        0.035971  {u'n_neighbors': 11}\n",
       "11         0.878261        0.035971  {u'n_neighbors': 12}\n",
       "12         0.878261        0.035971  {u'n_neighbors': 13}\n",
       "13         0.878261        0.035971  {u'n_neighbors': 14}\n",
       "14         0.878261        0.035971  {u'n_neighbors': 15}\n",
       "15         0.878261        0.035971  {u'n_neighbors': 16}\n",
       "16         0.878261        0.035971  {u'n_neighbors': 17}\n",
       "17         0.878261        0.035971  {u'n_neighbors': 18}\n",
       "18         0.878261        0.035971  {u'n_neighbors': 19}\n",
       "19         0.878261        0.035971  {u'n_neighbors': 20}\n",
       "20         0.878261        0.035971  {u'n_neighbors': 21}\n",
       "21         0.878261        0.035971  {u'n_neighbors': 22}\n",
       "22         0.878261        0.035971  {u'n_neighbors': 23}\n",
       "23         0.878261        0.035971  {u'n_neighbors': 24}\n",
       "24         0.878261        0.035971  {u'n_neighbors': 25}\n",
       "25         0.878261        0.035971  {u'n_neighbors': 26}\n",
       "26         0.878261        0.035971  {u'n_neighbors': 27}\n",
       "27         0.878261        0.035971  {u'n_neighbors': 28}\n",
       "28         0.878261        0.035971  {u'n_neighbors': 29}\n",
       "29         0.878261        0.035971  {u'n_neighbors': 30}"
      ]
     },
     "execution_count": 118,
     "metadata": {},
     "output_type": "execute_result"
    }
   ],
   "source": [
    "# view the results as a pandas DataFrame\n",
    "import pandas as pd\n",
    "pd.DataFrame(grid.cv_results_)[['mean_test_score', 'std_test_score', 'params']]"
   ]
  },
  {
   "cell_type": "code",
   "execution_count": 119,
   "metadata": {
    "collapsed": false
   },
   "outputs": [
    {
     "name": "stdout",
     "output_type": "stream",
     "text": [
      "{'n_neighbors': 1}\n",
      "0.782608695652\n"
     ]
    }
   ],
   "source": [
    "# examine the first result\n",
    "print(grid.cv_results_['params'][0])\n",
    "print(grid.cv_results_['mean_test_score'][0])"
   ]
  },
  {
   "cell_type": "code",
   "execution_count": 120,
   "metadata": {
    "collapsed": false
   },
   "outputs": [
    {
     "name": "stdout",
     "output_type": "stream",
     "text": [
      "[ 0.783  0.87   0.843  0.87   0.87   0.878  0.878  0.878  0.878  0.878\n",
      "  0.878  0.878  0.878  0.878  0.878  0.878  0.878  0.878  0.878  0.878\n",
      "  0.878  0.878  0.878  0.878  0.878  0.878  0.878  0.878  0.878  0.878]\n"
     ]
    }
   ],
   "source": [
    "\n",
    "# print the array of mean scores only# print  \n",
    "grid_mean_scores = grid.cv_results_['mean_test_score']\n",
    "print(grid_mean_scores)"
   ]
  },
  {
   "cell_type": "code",
   "execution_count": 121,
   "metadata": {
    "collapsed": false
   },
   "outputs": [
    {
     "data": {
      "text/plain": [
       "<matplotlib.text.Text at 0x109cb710>"
      ]
     },
     "execution_count": 121,
     "metadata": {},
     "output_type": "execute_result"
    },
    {
     "data": {
      "image/png": "[encoded data removed]",
      "text/plain": [
       "<matplotlib.figure.Figure at 0x105ab978>"
      ]
     },
     "metadata": {},
     "output_type": "display_data"
    }
   ],
   "source": [
    "# plot the results\n",
    "plt.plot(k_range, grid_mean_scores)\n",
    "plt.xlabel('Value of K for KNN')\n",
    "plt.ylabel('Cross-Validated Accuracy')"
   ]
  },
  {
   "cell_type": "code",
   "execution_count": 122,
   "metadata": {
    "collapsed": false,
    "scrolled": true
   },
   "outputs": [
    {
     "name": "stdout",
     "output_type": "stream",
     "text": [
      "0.878260869565\n",
      "{'n_neighbors': 6}\n",
      "KNeighborsClassifier(algorithm='auto', leaf_size=30, metric='minkowski',\n",
      "           metric_params=None, n_jobs=1, n_neighbors=6, p=2,\n",
      "           weights='uniform')\n"
     ]
    }
   ],
   "source": [
    "# examine the best model\n",
    "print(grid.best_score_)\n",
    "print(grid.best_params_)\n",
    "print(grid.best_estimator_)"
   ]
  },
  {
   "cell_type": "markdown",
   "metadata": {},
   "source": [
    "### Testing KNN for best model parameters"
   ]
  },
  {
   "cell_type": "code",
   "execution_count": 123,
   "metadata": {
    "collapsed": false
   },
   "outputs": [
    {
     "name": "stdout",
     "output_type": "stream",
     "text": [
      "0.862068965517\n"
     ]
    }
   ],
   "source": [
    "# training a KNN classifier\n",
    "from sklearn.neighbors import KNeighborsClassifier\n",
    "knn = KNeighborsClassifier(algorithm='auto', leaf_size=30, metric='minkowski',\n",
    "           metric_params=None, n_jobs=1, n_neighbors=6, p=2,\n",
    "           weights='uniform').fit(X_train, y_train)\n",
    " \n",
    "# accuracy on X_test\n",
    "accuracy = knn.score(X_test, y_test)\n",
    "print accuracy\n",
    " \n",
    "# creating a confusion matrix\n",
    "knn_predictions1 = knn.predict(X_test) \n",
    "cm = confusion_matrix(y_test, knn_predictions1)"
   ]
  },
  {
   "cell_type": "code",
   "execution_count": 124,
   "metadata": {
    "collapsed": false
   },
   "outputs": [
    {
     "name": "stdout",
     "output_type": "stream",
     "text": [
      "('Report : ', '             precision    recall  f1-score   support\\n\\n      False       0.86      1.00      0.93        25\\n       True       0.00      0.00      0.00         4\\n\\navg / total       0.74      0.86      0.80        29\\n')\n"
     ]
    }
   ],
   "source": [
    " print(\"Report : \",\n",
    "    classification_report(y_test,knn_predictions1))"
   ]
  },
  {
   "cell_type": "markdown",
   "metadata": {},
   "source": [
    "##### Even after using best model parameter this model is predicting so poorly in True cases"
   ]
  },
  {
   "cell_type": "code",
   "execution_count": 125,
   "metadata": {
    "collapsed": true
   },
   "outputs": [],
   "source": [
    "from sklearn import svm\n",
    "svm_clf = svm.SVC()\n",
    "svm_param = {'kernel':('linear', 'rbf', 'sigmoid'),\n",
    "'gamma': [1, 0.1, 0.01, 0.001, 0.0001],\n",
    "'C': [0.1, 1, 10, 100, 1000]}\n",
    "svm_grid_search = GridSearchCV(estimator = svm_clf, param_grid = svm_param)\n",
    "\n",
    "# instantiate the grid# instan \n",
    "grid_SVM = GridSearchCV(svm_clf, svm_param, cv=10, scoring='accuracy', return_train_score=False)\n",
    "\n",
    "# fit the grid with data\n",
    "grid_SVM.fit(X_train,y_train)\n",
    "\n",
    "\n",
    "# print the array of mean scores only# print  \n",
    "grid_svm_mean_scores = grid_SVM.cv_results_['mean_test_score']\n",
    "#print(grid_mean_scores)"
   ]
  },
  {
   "cell_type": "code",
   "execution_count": 127,
   "metadata": {
    "collapsed": false
   },
   "outputs": [
    {
     "name": "stdout",
     "output_type": "stream",
     "text": [
      "0.886956521739\n",
      "{'kernel': 'rbf', 'C': 10, 'gamma': 0.01}\n"
     ]
    }
   ],
   "source": [
    "# examine the best model# examin \n",
    "print(grid_SVM.best_score_)\n",
    "print(grid_SVM.best_params_)"
   ]
  },
  {
   "cell_type": "markdown",
   "metadata": {},
   "source": [
    "#### Testing SVM for optimized parameters"
   ]
  },
  {
   "cell_type": "code",
   "execution_count": 128,
   "metadata": {
    "collapsed": false
   },
   "outputs": [
    {
     "name": "stdout",
     "output_type": "stream",
     "text": [
      "Accuracy of SVM is  86.2068965517\n"
     ]
    }
   ],
   "source": [
    "# importing necessary libraries\n",
    "from sklearn.metrics import confusion_matrix\n",
    "   \n",
    "# training a linear SVM classifier\n",
    "from sklearn.svm import SVC # \"Support Vector Classifier\"\n",
    "clf_svm_linear = SVC(kernel = 'rbf', C = 10,gamma=0.01)\n",
    "clf_svm_linear.fit(X_train, y_train)\n",
    "svm_predictions = clf_svm_linear.predict(X_test)\n",
    " \n",
    "# model accuracy for X_test  \n",
    "#accuracy_svm = clf_svm_linear.score(y_test, svm_predictions)\n",
    "#print accuracy_svm\n",
    "print \"Accuracy of SVM is \", accuracy_score(y_test,svm_predictions)*100"
   ]
  },
  {
   "cell_type": "code",
   "execution_count": 129,
   "metadata": {
    "collapsed": false
   },
   "outputs": [
    {
     "name": "stdout",
     "output_type": "stream",
     "text": [
      "('Report : ', '             precision    recall  f1-score   support\\n\\n      False       0.86      1.00      0.93        25\\n       True       0.00      0.00      0.00         4\\n\\navg / total       0.74      0.86      0.80        29\\n')\n"
     ]
    }
   ],
   "source": [
    " print(\"Report : \",\n",
    "    classification_report(y_test,knn_predictions1))"
   ]
  },
  {
   "cell_type": "markdown",
   "metadata": {},
   "source": [
    "#### Very poor results for true prediction cases"
   ]
  },
  {
   "cell_type": "code",
   "execution_count": 130,
   "metadata": {
    "collapsed": true
   },
   "outputs": [],
   "source": [
    "from sklearn import tree\n",
    "dt_clf = tree.DecisionTreeClassifier()\n",
    "dt_param = {'criterion':('gini', 'entropy'),\n",
    "'splitter':('best','random')}\n",
    "dt_grid_search = GridSearchCV(estimator = dt_clf, param_grid = dt_param)\n",
    "\n",
    "# fit the grid with data\n",
    "dt_grid_search.fit(X_train,y_train)\n",
    "\n",
    "\n",
    "# print the array of mean scores only# print  \n",
    "grid_dt_mean_scores = dt_grid_search.cv_results_['mean_test_score']\n",
    "#print(grid_mean_scores)"
   ]
  },
  {
   "cell_type": "code",
   "execution_count": 131,
   "metadata": {
    "collapsed": false
   },
   "outputs": [
    {
     "name": "stdout",
     "output_type": "stream",
     "text": [
      "0.834782608696\n",
      "{'splitter': 'best', 'criterion': 'gini'}\n"
     ]
    }
   ],
   "source": [
    "# examine the best model# examin \n",
    "print(dt_grid_search.best_score_)\n",
    "print(dt_grid_search.best_params_)"
   ]
  },
  {
   "cell_type": "code",
   "execution_count": 132,
   "metadata": {
    "collapsed": true
   },
   "outputs": [],
   "source": [
    "dt_clf1 = tree.DecisionTreeClassifier()\n",
    "dt_clf1.fit(X_train, y_train)\n",
    "dt_predict=dt_clf1.predict(X_test)\n"
   ]
  },
  {
   "cell_type": "code",
   "execution_count": 133,
   "metadata": {
    "collapsed": false
   },
   "outputs": [
    {
     "name": "stdout",
     "output_type": "stream",
     "text": [
      "('Report : ', '             precision    recall  f1-score   support\\n\\n      False       0.91      0.84      0.87        25\\n       True       0.33      0.50      0.40         4\\n\\navg / total       0.83      0.79      0.81        29\\n')\n"
     ]
    }
   ],
   "source": [
    " print(\"Report : \",\n",
    "    classification_report(y_test,dt_predict))"
   ]
  },
  {
   "cell_type": "markdown",
   "metadata": {},
   "source": [
    "## Feature Engineering"
   ]
  },
  {
   "cell_type": "code",
   "execution_count": 137,
   "metadata": {
    "collapsed": false
   },
   "outputs": [],
   "source": [
    "# Add the new email features to the dataframe\n",
    "enron_DF['to_poi_ratio'] = enron_DF['from_poi_to_this_person']/enron_DF['to_messages']\n",
    "enron_DF['from_poi_ratio'] = enron_DF['from_this_person_to_poi'] / enron_DF['from_messages']\n",
    "enron_DF['shared_poi_ratio'] = enron_DF['shared_receipt_with_poi'] / enron_DF['to_messages']\n",
    "\n",
    "enron_DF.replace(to_replace='NaN', value=0.0, inplace=True)"
   ]
  },
  {
   "cell_type": "code",
   "execution_count": 138,
   "metadata": {
    "collapsed": false
   },
   "outputs": [
    {
     "name": "stdout",
     "output_type": "stream",
     "text": [
      "                      salary  to_messages  deferral_payments  total_payments  \\\n",
      "ALLEN PHILLIP K     201955.0       2902.0          2869717.0       4484442.0   \n",
      "BADUM JAMES P            0.0          0.0           178980.0        182466.0   \n",
      "BANNANTINE JAMES M     477.0        566.0                0.0        916197.0   \n",
      "BAXTER JOHN C       267102.0          0.0          1295738.0       5634343.0   \n",
      "BAY FRANKLIN R      239671.0          0.0           260455.0        827696.0   \n",
      "\n",
      "                    exercised_stock_options      bonus  restricted_stock  \\\n",
      "ALLEN PHILLIP K                   1729541.0  4175000.0          126027.0   \n",
      "BADUM JAMES P                      257817.0        0.0               0.0   \n",
      "BANNANTINE JAMES M                4046157.0        0.0         1757552.0   \n",
      "BAXTER JOHN C                     6680544.0  1200000.0         3942714.0   \n",
      "BAY FRANKLIN R                          0.0   400000.0          145796.0   \n",
      "\n",
      "                    shared_receipt_with_poi  restricted_stock_deferred  \\\n",
      "ALLEN PHILLIP K                      1407.0                  -126027.0   \n",
      "BADUM JAMES P                           0.0                        0.0   \n",
      "BANNANTINE JAMES M                    465.0                  -560222.0   \n",
      "BAXTER JOHN C                           0.0                        0.0   \n",
      "BAY FRANKLIN R                          0.0                   -82782.0   \n",
      "\n",
      "                    total_stock_value       ...         \\\n",
      "ALLEN PHILLIP K             1729541.0       ...          \n",
      "BADUM JAMES P                257817.0       ...          \n",
      "BANNANTINE JAMES M          5243487.0       ...          \n",
      "BAXTER JOHN C              10623258.0       ...          \n",
      "BAY FRANKLIN R                63014.0       ...          \n",
      "\n",
      "                    from_this_person_to_poi    poi  director_fees  \\\n",
      "ALLEN PHILLIP K                        65.0  False            0.0   \n",
      "BADUM JAMES P                           0.0  False            0.0   \n",
      "BANNANTINE JAMES M                      0.0  False            0.0   \n",
      "BAXTER JOHN C                           0.0  False            0.0   \n",
      "BAY FRANKLIN R                          0.0  False            0.0   \n",
      "\n",
      "                    deferred_income  long_term_incentive  \\\n",
      "ALLEN PHILLIP K          -3081055.0             304805.0   \n",
      "BADUM JAMES P                   0.0                  0.0   \n",
      "BANNANTINE JAMES M          -5104.0                  0.0   \n",
      "BAXTER JOHN C            -1386055.0            1586055.0   \n",
      "BAY FRANKLIN R            -201641.0                  0.0   \n",
      "\n",
      "                                 email_address  from_poi_to_this_person  \\\n",
      "ALLEN PHILLIP K        phillip.allen@enron.com                     47.0   \n",
      "BADUM JAMES P                                0                      0.0   \n",
      "BANNANTINE JAMES M  james.bannantine@enron.com                     39.0   \n",
      "BAXTER JOHN C                                0                      0.0   \n",
      "BAY FRANKLIN R             frank.bay@enron.com                      0.0   \n",
      "\n",
      "                    to_poi_ratio  from_poi_ratio shared_poi_ratio  \n",
      "ALLEN PHILLIP K         0.016196        0.029613         0.484838  \n",
      "BADUM JAMES P           0.000000        0.000000         0.000000  \n",
      "BANNANTINE JAMES M      0.068905        0.000000         0.821555  \n",
      "BAXTER JOHN C           0.000000        0.000000         0.000000  \n",
      "BAY FRANKLIN R          0.000000        0.000000         0.000000  \n",
      "\n",
      "[5 rows x 24 columns]\n"
     ]
    }
   ],
   "source": [
    "print enron_DF.head()"
   ]
  },
  {
   "cell_type": "code",
   "execution_count": 139,
   "metadata": {
    "collapsed": false
   },
   "outputs": [
    {
     "name": "stdout",
     "output_type": "stream",
     "text": [
      "[ 18.576   1.699   0.217   8.874  25.098  21.06    9.347   8.746   0.065\n",
      "  24.468   6.234   7.243   0.164   4.246   2.427   2.108  11.596  10.072\n",
      "   5.345   3.211  16.642   9.296]\n",
      "[ 4.518  0.711  0.192  2.468  5.797  5.013  2.573  2.44   0.097  5.677\n",
      "  1.864  2.098  0.164  1.385  0.915  0.827  3.066  2.734  1.653  1.123\n",
      "  4.125  2.562]\n",
      "[[  2.020e+05   1.730e+06   4.175e+06   1.730e+06   2.961e-02]\n",
      " [  0.000e+00   2.578e+05   0.000e+00   2.578e+05   0.000e+00]\n",
      " [  4.770e+02   4.046e+06   0.000e+00   5.243e+06   0.000e+00]\n",
      " [  2.671e+05   6.681e+06   1.200e+06   1.062e+07   0.000e+00]\n",
      " [  2.397e+05   0.000e+00   4.000e+05   6.301e+04   0.000e+00]]\n",
      "(144L, 5L)\n",
      "[ 0  4  5  9 20]\n"
     ]
    },
    {
     "data": {
      "text/plain": [
       "['salary',\n",
       " 'exercised_stock_options',\n",
       " 'bonus',\n",
       " 'total_stock_value',\n",
       " 'from_poi_ratio']"
      ]
     },
     "execution_count": 139,
     "metadata": {},
     "output_type": "execute_result"
    }
   ],
   "source": [
    "\n",
    "# Feature Extraction with Univariate Statistical Tests (Chi-squared for classification)\n",
    "import pandas\n",
    "import numpy\n",
    "from sklearn.feature_selection import SelectKBest\n",
    "from sklearn.feature_selection import chi2\n",
    "\n",
    "\n",
    "x1 = enron_DF.drop(['email_address','poi'], axis=1)\n",
    "#print x1\n",
    "y1=enron_DF['poi']\n",
    "\n",
    "# feature extraction\n",
    "test = SelectKBest(score_func=f_classif, k=5)\n",
    "fit = test.fit(x1, y1)\n",
    "# summarize scores\n",
    "numpy.set_printoptions(precision=3)\n",
    "print(fit.scores_)\n",
    "scores1 = -np.log10(test.pvalues_)\n",
    "print scores1\n",
    "\n",
    "features = fit.transform(x1)\n",
    "# summarize selected features\n",
    "print(features[0:5,:])\n",
    "\n",
    "print features.shape\n",
    "print(test.get_support(indices=True))\n",
    "\n",
    "#2nd way\n",
    "x1.columns[test.get_support(indices=True)].tolist()"
   ]
  },
  {
   "cell_type": "code",
   "execution_count": 140,
   "metadata": {
    "collapsed": true
   },
   "outputs": [],
   "source": [
    "import numpy as np\n",
    "import pandas as pd\n",
    "from sklearn.cross_validation import train_test_split\n",
    "from sklearn.tree import DecisionTreeClassifier\n",
    "from sklearn.metrics import accuracy_score\n",
    "from sklearn import tree\n",
    "from sklearn import preprocessing, cross_validation, svm\n",
    "\n",
    "X = enron_DF.iloc[:, [0,4,5,9,20]]\n",
    "X = preprocessing.scale(X)\n",
    "\n",
    "Y = enron_DF.iloc[:,15]\n",
    "#enron_DF.columns.get_loc(\"poi\")\n"
   ]
  },
  {
   "cell_type": "code",
   "execution_count": 141,
   "metadata": {
    "collapsed": true
   },
   "outputs": [],
   "source": [
    "X_train, X_test, y_train, y_test = train_test_split( X, Y, test_size = 0.2, random_state = 100)"
   ]
  },
  {
   "cell_type": "code",
   "execution_count": 142,
   "metadata": {
    "collapsed": false
   },
   "outputs": [],
   "source": [
    "from sklearn import svm\n",
    "from sklearn.model_selection import GridSearchCV\n",
    "svm_clf = svm.SVC()\n",
    "svm_param = {'kernel':('linear', 'rbf', 'sigmoid'),\n",
    "'gamma': [1, 0.1, 0.01, 0.001, 0.0001],\n",
    "'C': [0.1, 1, 10, 100, 1000]}\n",
    "svm_grid_search = GridSearchCV(estimator = svm_clf, param_grid = svm_param)\n",
    "\n",
    "# instantiate the grid# instan \n",
    "grid_SVM = GridSearchCV(svm_clf, svm_param, cv=10, scoring='accuracy')\n",
    "\n",
    "# fit the grid with data\n",
    "grid_SVM.fit(X_train,y_train)\n",
    "\n",
    "Y_pred_svm=grid_SVM.predict(X_test)\n",
    "# print the array of mean scores only# print  \n",
    "grid_svm_mean_scores = grid_SVM.cv_results_['mean_test_score']\n",
    "#print(grid_mean_scores)"
   ]
  },
  {
   "cell_type": "code",
   "execution_count": 143,
   "metadata": {
    "collapsed": false
   },
   "outputs": [
    {
     "name": "stdout",
     "output_type": "stream",
     "text": [
      "0.886956521739\n",
      "{'kernel': 'rbf', 'C': 1000, 'gamma': 0.001}\n"
     ]
    }
   ],
   "source": [
    "# examine the best model# examin \n",
    "print(grid_SVM.best_score_)\n",
    "print(grid_SVM.best_params_)"
   ]
  },
  {
   "cell_type": "code",
   "execution_count": 62,
   "metadata": {
    "collapsed": false
   },
   "outputs": [
    {
     "name": "stdout",
     "output_type": "stream",
     "text": [
      "(0.74316290130796658, 0.86206896551724133, 0.79821200510855683, None)\n"
     ]
    },
    {
     "name": "stderr",
     "output_type": "stream",
     "text": [
      "C:\\Anaconda2\\lib\\site-packages\\sklearn\\metrics\\classification.py:1113: UndefinedMetricWarning:\n",
      "\n",
      "Precision and F-score are ill-defined and being set to 0.0 in labels with no predicted samples.\n",
      "\n"
     ]
    }
   ],
   "source": [
    "from sklearn.metrics import precision_recall_fscore_support\n",
    "print precision_recall_fscore_support(y_test, Y_pred_svm, average='weighted')"
   ]
  },
  {
   "cell_type": "code",
   "execution_count": 144,
   "metadata": {
    "collapsed": false
   },
   "outputs": [
    {
     "name": "stdout",
     "output_type": "stream",
     "text": [
      "('Report : ', '             precision    recall  f1-score   support\\n\\n      False       0.86      1.00      0.93        25\\n       True       0.00      0.00      0.00         4\\n\\navg / total       0.74      0.86      0.80        29\\n')\n"
     ]
    }
   ],
   "source": [
    "# importing necessary libraries\n",
    "from sklearn.metrics import confusion_matrix\n",
    "from sklearn.metrics import accuracy_score\n",
    "from sklearn.metrics import classification_report\n",
    "\n",
    "\n",
    "print(\"Report : \",\n",
    "    classification_report(y_test,Y_pred_svm))"
   ]
  },
  {
   "cell_type": "code",
   "execution_count": 145,
   "metadata": {
    "collapsed": false
   },
   "outputs": [
    {
     "name": "stdout",
     "output_type": "stream",
     "text": [
      "F1 score: 0.798212005109\n"
     ]
    }
   ],
   "source": [
    "from sklearn.metrics import precision_score, \\\n",
    "    recall_score, confusion_matrix, classification_report, \\\n",
    "    accuracy_score, f1_score\n",
    "\n",
    "print 'F1 score:', f1_score(y_test, Y_pred_svm,\n",
    "                            average='weighted')"
   ]
  },
  {
   "cell_type": "code",
   "execution_count": 146,
   "metadata": {
    "collapsed": false
   },
   "outputs": [
    {
     "name": "stdout",
     "output_type": "stream",
     "text": [
      "0.817391304348\n",
      "{'splitter': 'random', 'criterion': 'entropy'}\n"
     ]
    }
   ],
   "source": [
    "from sklearn import tree\n",
    "dt_clf = tree.DecisionTreeClassifier()\n",
    "dt_param = {'criterion':('gini', 'entropy'),\n",
    "'splitter':('best','random')}\n",
    "dt_grid_search = GridSearchCV(estimator = dt_clf, param_grid = dt_param)\n",
    "\n",
    "# fit the grid with data\n",
    "dt_grid_search.fit(X_train,y_train)\n",
    "\n",
    "\n",
    "# print the array of mean scores only# print  \n",
    "grid_dt_mean_scores = dt_grid_search.cv_results_['mean_test_score']\n",
    "#print(grid_mean_scores)\n",
    "\n",
    "# examine the best model# examin \n",
    "print(dt_grid_search.best_score_)\n",
    "print(dt_grid_search.best_params_)"
   ]
  },
  {
   "cell_type": "code",
   "execution_count": 147,
   "metadata": {
    "collapsed": true
   },
   "outputs": [],
   "source": [
    "dt_clf2 = tree.DecisionTreeClassifier(splitter='random',criterion='entropy')\n",
    "dt_clf2.fit(X_train, y_train)\n",
    "dt_predict1=dt_clf2.predict(X_test)"
   ]
  },
  {
   "cell_type": "code",
   "execution_count": 148,
   "metadata": {
    "collapsed": false
   },
   "outputs": [
    {
     "name": "stdout",
     "output_type": "stream",
     "text": [
      "('Report : ', '             precision    recall  f1-score   support\\n\\n      False       0.96      0.92      0.94        25\\n       True       0.60      0.75      0.67         4\\n\\navg / total       0.91      0.90      0.90        29\\n')\n"
     ]
    }
   ],
   "source": [
    "print(\"Report : \",\n",
    "    classification_report(y_test,dt_predict1))"
   ]
  },
  {
   "cell_type": "code",
   "execution_count": 149,
   "metadata": {
    "collapsed": false
   },
   "outputs": [
    {
     "name": "stdout",
     "output_type": "stream",
     "text": [
      "0.886956521739\n",
      "{'n_neighbors': 9}\n",
      "KNeighborsClassifier(algorithm='auto', leaf_size=30, metric='minkowski',\n",
      "           metric_params=None, n_jobs=1, n_neighbors=9, p=2,\n",
      "           weights='uniform')\n"
     ]
    }
   ],
   "source": [
    "from sklearn.datasets import load_iris\n",
    "from sklearn.neighbors import KNeighborsClassifier\n",
    "from sklearn.model_selection import cross_val_score\n",
    "import matplotlib.pyplot as plt\n",
    "%matplotlib inline\n",
    "\n",
    "\n",
    "# define the parameter values that should be searched\n",
    "k_range = list(range(1, 31))\n",
    "#print(k_range)\n",
    "\n",
    "knn = KNeighborsClassifier(n_neighbors=5)\n",
    "\n",
    "# create a parameter grid: map the parameter names to the values that should be searched\n",
    "param_grid = dict(n_neighbors=k_range)\n",
    "#print(param_grid)\n",
    "\n",
    "# instantiate the grid# instan \n",
    "grid = GridSearchCV(knn, param_grid, cv=10, scoring='accuracy', return_train_score=False)\n",
    "\n",
    "# fit the grid with data\n",
    "grid.fit(X_train,y_train)\n",
    "\n",
    "# examine the best model\n",
    "print(grid.best_score_)\n",
    "print(grid.best_params_)\n",
    "print(grid.best_estimator_)"
   ]
  },
  {
   "cell_type": "code",
   "execution_count": 150,
   "metadata": {
    "collapsed": false
   },
   "outputs": [
    {
     "name": "stdout",
     "output_type": "stream",
     "text": [
      "0.862068965517\n"
     ]
    }
   ],
   "source": [
    "# training a KNN classifier\n",
    "from sklearn.neighbors import KNeighborsClassifier\n",
    "knn = KNeighborsClassifier(algorithm='auto', leaf_size=30, metric='minkowski',\n",
    "           metric_params=None, n_jobs=1, n_neighbors=9, p=2,\n",
    "           weights='uniform').fit(X_train, y_train)\n",
    " \n",
    "# accuracy on X_test\n",
    "accuracy = knn.score(X_test, y_test)\n",
    "print accuracy\n",
    " \n",
    "# creating a confusion matrix\n",
    "knn_predictions1 = knn.predict(X_test) \n",
    "cm = confusion_matrix(y_test, knn_predictions1)"
   ]
  },
  {
   "cell_type": "code",
   "execution_count": 151,
   "metadata": {
    "collapsed": false
   },
   "outputs": [
    {
     "name": "stdout",
     "output_type": "stream",
     "text": [
      "('Report : ', '             precision    recall  f1-score   support\\n\\n      False       0.86      1.00      0.93        25\\n       True       0.00      0.00      0.00         4\\n\\navg / total       0.74      0.86      0.80        29\\n')\n"
     ]
    }
   ],
   "source": [
    "print(\"Report : \",\n",
    "    classification_report(y_test,knn_predictions1))"
   ]
  },
  {
   "cell_type": "code",
   "execution_count": 152,
   "metadata": {
    "collapsed": false
   },
   "outputs": [
    {
     "name": "stdout",
     "output_type": "stream",
     "text": [
      "[False False False False False False False False False False False False\n",
      " False False False False False False False False False False False False\n",
      " False False False False False]\n",
      "Accuracy of RandomForestRegressor is  86.2068965517\n"
     ]
    }
   ],
   "source": [
    "from sklearn.ensemble import RandomForestClassifier\n",
    "\n",
    "#rfc = RandomForestClassifier(max_depth=2, random_state=0)\n",
    "rfc = RandomForestClassifier(n_estimators=10)\n",
    "rfc.fit(X_train, y_train)\n",
    "\n",
    "# Use the forest's predict method on the test data\n",
    "rfc_predictions = rfc.predict(X_test)\n",
    "print rfc_predictions\n",
    "\n",
    "print \"Accuracy of RandomForestRegressor is \", accuracy_score(y_test,rfc_predictions)*100    "
   ]
  },
  {
   "cell_type": "code",
   "execution_count": 153,
   "metadata": {
    "collapsed": false
   },
   "outputs": [
    {
     "name": "stdout",
     "output_type": "stream",
     "text": [
      "('Report : ', '             precision    recall  f1-score   support\\n\\n      False       0.86      1.00      0.93        25\\n       True       0.00      0.00      0.00         4\\n\\navg / total       0.74      0.86      0.80        29\\n')\n"
     ]
    }
   ],
   "source": [
    "print(\"Report : \",\n",
    "    classification_report(y_test,rfc_predictions))"
   ]
  },
  {
   "cell_type": "code",
   "execution_count": 154,
   "metadata": {
    "collapsed": false
   },
   "outputs": [
    {
     "name": "stdout",
     "output_type": "stream",
     "text": [
      "Accuracy of Naive Bayes is  86.2068965517\n"
     ]
    }
   ],
   "source": [
    "# training a Naive Bayes classifier\n",
    "from sklearn.naive_bayes import GaussianNB\n",
    "gnb = GaussianNB()\n",
    "gnb.fit(X_train, y_train)\n",
    "gnb_predictions = gnb.predict(X_test)\n",
    " \n",
    "#print gnb_predictions   \n",
    "#print y_test\n",
    "# accuracy\n",
    "#accuracy = gnb.score(y_test, gnb_predictions)\n",
    "#print accuracy\n",
    " \n",
    "print \"Accuracy of Naive Bayes is \", accuracy_score(y_test,gnb_predictions)*100    \n"
   ]
  },
  {
   "cell_type": "code",
   "execution_count": 155,
   "metadata": {
    "collapsed": false
   },
   "outputs": [
    {
     "name": "stdout",
     "output_type": "stream",
     "text": [
      "('Report : ', '             precision    recall  f1-score   support\\n\\n      False       0.89      0.96      0.92        25\\n       True       0.50      0.25      0.33         4\\n\\navg / total       0.84      0.86      0.84        29\\n')\n"
     ]
    }
   ],
   "source": [
    "print(\"Report : \",\n",
    "    classification_report(y_test,gnb_predictions))"
   ]
  },
  {
   "cell_type": "code",
   "execution_count": 158,
   "metadata": {
    "collapsed": false
   },
   "outputs": [
    {
     "data": {
      "text/plain": [
       "'C:\\\\Users\\\\Vivek\\\\ud120-projects-master\\\\ud120-projects-master\\\\tools'"
      ]
     },
     "execution_count": 158,
     "metadata": {},
     "output_type": "execute_result"
    }
   ],
   "source": [
    "import os\n",
    "os.getcwd()"
   ]
  },
  {
   "cell_type": "markdown",
   "metadata": {},
   "source": [
    "## References:\n",
    "https://www.nytimes.com/2002/06/18/business/officials-got-a-windfall-before-enron-s-collapse.html\n",
    "\n",
    "https://www.risk.net/risk-management/2123422/ten-years-after-its-collapse-enron-lives-energy-markets"
   ]
  },
  {
   "cell_type": "code",
   "execution_count": null,
   "metadata": {
    "collapsed": true
   },
   "outputs": [],
   "source": []
  },
  {
   "cell_type": "code",
   "execution_count": null,
   "metadata": {
    "collapsed": true
   },
   "outputs": [],
   "source": []
  },
  {
   "cell_type": "code",
   "execution_count": null,
   "metadata": {
    "collapsed": true
   },
   "outputs": [],
   "source": []
  }
 ],
 "metadata": {
  "kernelspec": {
   "display_name": "Python 2",
   "language": "python",
   "name": "python2"
  },
  "language_info": {
   "codemirror_mode": {
    "name": "ipython",
    "version": 2
   },
   "file_extension": ".py",
   "mimetype": "text/x-python",
   "name": "python",
   "nbconvert_exporter": "python",
   "pygments_lexer": "ipython2",
   "version": "2.7.12"
  }
 },
 "nbformat": 4,
 "nbformat_minor": 0
}
